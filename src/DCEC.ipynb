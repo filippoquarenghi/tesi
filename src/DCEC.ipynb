{
 "cells": [
  {
   "cell_type": "code",
   "execution_count": 74,
   "metadata": {},
   "outputs": [],
   "source": [
    "import os, shutil\n",
    "from os import listdir\n",
    "from os.path import isfile, join\n",
    "import random"
   ]
  },
  {
   "cell_type": "code",
   "execution_count": 80,
   "metadata": {},
   "outputs": [
    {
     "name": "stdout",
     "output_type": "stream",
     "text": [
      "/home/phil/unimib/tesi/src\n",
      "['PET219_augmented_image_699.png', 'CT353_augmented_image_41.png', 'CT47_augmented_image_822.png', 'CT304_augmented_image_461.png', 'CT31_augmented_image_654.png', 'MRI298.png', 'MRI212_augmented_image_212.png', 'CT252.png', 'CT279_augmented_image_540.png', 'CT346_augmented_image_0.png', 'PET214_augmented_image_683.png', 'MRI114.png', 'CT325_augmented_image_119.png', 'PET87_augmented_image_626.png', 'CT48_augmented_image_287.png', 'CT190_augmented_image_642.png', 'MRI93.png', 'PET129_augmented_image_199.png', 'MRI110_augmented_image_628.png', 'MRI139_augmented_image_67.png', 'MRI328.png', 'PET283.png', 'CT191_augmented_image_270.png', 'MRI421_augmented_image_833.png', 'MRI230.png', 'MRI302_augmented_image_176.png', 'MRI419_augmented_image_669.png', 'PET275_augmented_image_182.png', 'CT84_augmented_image_301.png', 'PET275_augmented_image_196.png', 'MRI191_augmented_image_63.png', 'MRI392_augmented_image_417.png', 'CT171.png', 'MRI157_augmented_image_367.png', 'MRI345.png', 'PET135_augmented_image_529.png', 'MRI297.png', 'PET4_augmented_image_155.png', 'CT280.png', 'CT206_augmented_image_11.png', 'MRI125_augmented_image_490.png', 'PET255_augmented_image_520.png', 'MRI181_augmented_image_336.png', 'CT189_augmented_image_346.png', 'MRI36_augmented_image_195.png', 'PET259_augmented_image_842.png', 'CT330_augmented_image_208.png', 'CT329_augmented_image_547.png', 'CT172_augmented_image_100.png', 'CT351.png', 'CT271.png', 'MRI397.png', 'MRI36.png', 'CT155_augmented_image_583.png', 'MRI241_augmented_image_25.png', 'CT336_augmented_image_405.png', 'PET129.png', 'MRI120.png', 'CT64.png', 'MRI241_augmented_image_785.png', 'MRI210_augmented_image_13.png', 'PET153_augmented_image_40.png', 'MRI276.png', 'PET45_augmented_image_827.png', 'CT189.png', 'CT44.png', 'CT237_augmented_image_557.png', 'CT298.png', 'CT255.png', 'MRI12_augmented_image_519.png', 'PET232_augmented_image_480.png', 'MRI229_augmented_image_663.png', 'MRI208.png', 'MRI31_augmented_image_679.png', 'CT190.png', 'CT66_augmented_image_779.png', 'PET256.png', 'PET123_augmented_image_753.png', 'MRI347_augmented_image_186.png', 'CT220.png', 'CT14_augmented_image_581.png', 'CT134_augmented_image_259.png', 'MRI208_augmented_image_230.png', 'PET174.png', 'CT348.png', 'MRI46_augmented_image_749.png', 'CT193.png', 'CT155_augmented_image_692.png', 'CT221.png', 'PET247.png', 'MRI297_augmented_image_382.png', 'MRI34_augmented_image_263.png', 'PET149_augmented_image_729.png', 'PET83_augmented_image_645.png', 'PET211_augmented_image_781.png', 'MRI122_augmented_image_51.png', 'PET213.png', 'CT242_augmented_image_457.png', 'PET268_augmented_image_503.png', 'MRI367_augmented_image_343.png', 'MRI387_augmented_image_452.png', 'MRI114_augmented_image_411.png', 'MRI170_augmented_image_661.png', 'PET244.png', 'PET139.png', 'PET65.png', 'MRI360_augmented_image_761.png', 'MRI95_augmented_image_290.png', 'MRI417.png', 'MRI292_augmented_image_573.png', 'CT125_augmented_image_401.png', 'PET204_augmented_image_702.png', 'CT297_augmented_image_693.png', 'PET202_augmented_image_320.png', 'CT30_augmented_image_588.png', 'PET244_augmented_image_491.png', 'MRI354_augmented_image_78.png', 'MRI81_augmented_image_327.png', 'MRI95.png', 'MRI386_augmented_image_111.png', 'MRI331_augmented_image_733.png', 'MRI133.png', 'PET156_augmented_image_666.png', 'CT351_augmented_image_697.png', 'MRI183_augmented_image_631.png', 'PET139_augmented_image_99.png', 'MRI384_augmented_image_818.png', 'CT196_augmented_image_138.png', 'CT30_augmented_image_578.png', 'MRI137_augmented_image_481.png', 'PET156_augmented_image_676.png', 'PET68.png', 'PET116_augmented_image_312.png', 'PET232_augmented_image_345.png', 'MRI249_augmented_image_796.png', 'PET187.png', 'CT42_augmented_image_611.png', 'MRI265_augmented_image_501.png', 'PET186_augmented_image_792.png', 'CT272_augmented_image_98.png', 'MRI16.png', 'MRI332.png', 'MRI356_augmented_image_286.png', 'PET155_augmented_image_776.png', 'MRI49_augmented_image_755.png', 'CT196_augmented_image_713.png', 'MRI265.png', 'PET28.png', 'PET112_augmented_image_240.png', 'PET156_augmented_image_619.png', 'MRI322_augmented_image_618.png', 'MRI65.png', 'CT237_augmented_image_604.png', 'CT297_augmented_image_55.png', 'PET187_augmented_image_449.png', 'CT210_augmented_image_166.png', 'MRI169.png', 'CT301_augmented_image_460.png', 'CT339.png', 'PET225.png', 'CT58_augmented_image_243.png', 'CT196_augmented_image_739.png', 'MRI123_augmented_image_548.png', 'CT212_augmented_image_670.png', 'MRI297_augmented_image_29.png', 'PET95_augmented_image_318.png', 'MRI379.png', 'CT117.png', 'MRI197_augmented_image_361.png', 'CT233_augmented_image_237.png', 'MRI32.png', 'CT317.png', 'PET260_augmented_image_804.png', 'PET171.png', 'CT95_augmented_image_276.png', 'MRI301.png', 'MRI163_augmented_image_274.png', 'MRI90_augmented_image_97.png', 'PET152.png', 'PET74.png', 'MRI333_augmented_image_234.png', 'MRI139_augmented_image_632.png', 'CT175.png', 'PET76.png', 'MRI38_augmented_image_708.png', 'MRI115_augmented_image_800.png', 'PET200_augmented_image_740.png', 'CT66.png', 'CT15_augmented_image_537.png', 'MRI31.png', 'CT143_augmented_image_391.png', 'MRI276_augmented_image_293.png', 'PET112_augmented_image_184.png', 'CT175_augmented_image_629.png', 'MRI124.png', 'MRI58.png', 'CT151.png', 'MRI425.png', 'CT1_augmented_image_635.png', 'CT295_augmented_image_422.png', 'CT83_augmented_image_249.png', 'CT47_augmented_image_450.png', 'MRI348.png', 'PET135_augmented_image_402.png', 'MRI141_augmented_image_393.png', 'CT17.png', 'CT134_augmented_image_398.png', 'CT193_augmented_image_657.png', 'CT145_augmented_image_244.png', 'MRI95_augmented_image_307.png', 'MRI229_augmented_image_239.png', 'CT197_augmented_image_85.png', 'MRI130_augmented_image_572.png', 'PET256_augmented_image_617.png', 'CT279.png', 'MRI115_augmented_image_280.png', 'MRI135.png', 'MRI159.png', 'PET171_augmented_image_790.png', 'CT193_augmented_image_706.png', 'CT84_augmented_image_84.png', 'PET256_augmented_image_445.png', 'PET107.png', 'MRI421.png', 'MRI194.png', 'MRI38_augmented_image_413.png', 'CT233_augmented_image_224.png', 'CT295_augmented_image_47.png', 'CT95.png', 'MRI163_augmented_image_825.png', 'CT44_augmented_image_545.png', 'CT102_augmented_image_826.png', 'MRI182_augmented_image_812.png', 'CT54_augmented_image_533.png', 'CT225.png', 'MRI260_augmented_image_167.png', 'CT206.png', 'CT294_augmented_image_102.png', 'MRI30.png', 'MRI393_augmented_image_354.png', 'CT258_augmented_image_487.png', 'CT1.png', 'PET59_augmented_image_746.png', 'CT171_augmented_image_636.png', 'PET194_augmented_image_482.png', 'CT298_augmented_image_765.png', 'MRI81.png', 'CT132_augmented_image_641.png', 'PET116_augmented_image_250.png', 'PET207_augmented_image_643.png', 'PET155_augmented_image_233.png', 'PET67_augmented_image_173.png', 'CT78_augmented_image_603.png', 'CT161.png', 'PET187_augmented_image_696.png', 'MRI376.png', 'CT345_augmented_image_277.png', 'MRI348_augmented_image_750.png', 'PET246.png', 'CT110_augmented_image_801.png', 'MRI214.png', 'PET3_augmented_image_807.png', 'CT258.png', 'CT10_augmented_image_634.png', 'MRI123_augmented_image_530.png', 'CT303_augmented_image_751.png', 'PET135.png', 'MRI38.png', 'CT279_augmented_image_784.png', 'PET202_augmented_image_124.png', 'CT221_augmented_image_122.png', 'CT231_augmented_image_262.png', 'MRI182_augmented_image_640.png', 'CT15_augmented_image_4.png', 'MRI46.png', 'MRI302.png', 'CT156.png', 'MRI157.png', 'MRI123.png', 'PET49.png', 'CT343.png', 'MRI90_augmented_image_813.png', 'PET110.png', 'CT65_augmented_image_541.png', 'CT270_augmented_image_80.png', 'MRI130_augmented_image_613.png', 'CT337.png', 'PET264_augmented_image_690.png', 'PET117.png', 'MRI194_augmented_image_526.png', 'CT176.png', 'PET119.png', 'CT230_augmented_image_575.png', 'CT282.png', 'PET88_augmented_image_730.png', 'MRI233_augmented_image_118.png', 'MRI163_augmented_image_246.png', 'MRI104_augmented_image_126.png', 'MRI365.png', 'MRI90.png', 'PET219_augmented_image_440.png', 'MRI284_augmented_image_767.png', 'MRI16_augmented_image_209.png', 'MRI76_augmented_image_840.png', 'PET68_augmented_image_376.png', 'MRI386.png', 'MRI210.png', 'CT23.png', 'CT221_augmented_image_407.png', 'MRI255_augmented_image_60.png', 'PET16.png', 'CT350.png', 'MRI411.png', 'PET110_augmented_image_703.png', 'MRI5_augmented_image_469.png', 'MRI157_augmented_image_7.png', 'CT50.png', 'CT304_augmented_image_245.png', 'CT176_augmented_image_366.png', 'PET255_augmented_image_725.png', 'PET208_augmented_image_831.png', 'PET143_augmented_image_337.png', 'PET115_augmented_image_651.png', 'CT231_augmented_image_483.png', 'CT192.png', 'CT14.png', 'CT345_augmented_image_438.png', 'MRI116_augmented_image_61.png', 'CT33.png', 'PET207_augmented_image_303.png', 'PET129_augmented_image_566.png', 'MRI344.png', 'MRI134.png', 'CT182_augmented_image_248.png', 'MRI171.png', 'CT50_augmented_image_364.png', 'MRI20_augmented_image_305.png', 'PET85_augmented_image_678.png', 'PET107_augmented_image_219.png', 'MRI230_augmented_image_759.png', 'MRI93_augmented_image_101.png', 'CT255_augmented_image_778.png', 'CT31_augmented_image_830.png', 'CT183_augmented_image_846.png', 'CT17_augmented_image_456.png', 'PET159_augmented_image_685.png', 'MRI396_augmented_image_333.png', 'PET156.png', 'PET152_augmented_image_722.png', 'CT183_augmented_image_639.png', 'MRI393_augmented_image_332.png', 'PET65_augmented_image_284.png', 'CT183.png', 'PET265_augmented_image_660.png', 'CT230.png', 'PET57_augmented_image_46.png', 'MRI210_augmented_image_153.png', 'MRI72.png', 'MRI110_augmented_image_829.png', 'CT155_augmented_image_627.png', 'CT351_augmented_image_609.png', 'PET231_augmented_image_357.png', 'PET265_augmented_image_156.png', 'MRI396_augmented_image_584.png', 'PET240.png', 'MRI322_augmented_image_105.png', 'PET282_augmented_image_358.png', 'PET236.png', 'MRI156_augmented_image_149.png', 'CT148_augmented_image_719.png', 'MRI276_augmented_image_579.png', 'MRI292_augmented_image_16.png', 'CT270_augmented_image_625.png', 'PET236_augmented_image_569.png', 'CT329_augmented_image_35.png', 'PET123_augmented_image_390.png', 'MRI183.png', 'MRI338_augmented_image_54.png', 'CT328.png', 'MRI349.png', 'MRI62.png', 'PET164_augmented_image_356.png', 'MRI198.png', 'MRI134_augmented_image_296.png', 'CT70_augmented_image_646.png', 'PET164.png', 'MRI333_augmented_image_397.png', 'CT14_augmented_image_549.png', 'PET220_augmented_image_329.png', 'PET225_augmented_image_147.png', 'PET260.png', 'MRI338_augmented_image_805.png', 'PET240_augmented_image_434.png', 'CT192_augmented_image_638.png', 'CT345.png', 'MRI86_augmented_image_279.png', 'MRI241_augmented_image_27.png', 'PET3.png', 'PET171_augmented_image_273.png', 'MRI116_augmented_image_637.png', 'MRI182.png', 'CT47.png', 'PET85.png', 'PET15_augmented_image_649.png', 'PET116.png', 'MRI344_augmented_image_823.png', 'CT171_augmented_image_396.png', 'MRI386_augmented_image_319.png', 'CT182_augmented_image_488.png', 'CT316_augmented_image_113.png', 'MRI127.png', 'MRI239.png', 'MRI380_augmented_image_159.png', 'MRI345_augmented_image_200.png', 'MRI33.png', 'MRI110_augmented_image_89.png', 'MRI68_augmented_image_806.png', 'PET74_augmented_image_381.png', 'MRI245_augmented_image_451.png', 'MRI130_augmented_image_621.png', 'CT132_augmented_image_229.png', 'PET15.png', 'MRI354_augmented_image_172.png', 'PET96_augmented_image_309.png', 'CT134_augmented_image_310.png', 'CT145_augmented_image_610.png', 'PET108.png', 'MRI48.png', 'CT148.png', 'PET115.png', 'PET123.png', 'CT211_augmented_image_132.png', 'CT135_augmented_image_546.png', 'CT103_augmented_image_522.png', 'CT3_augmented_image_591.png', 'MRI170.png', 'PET72.png', 'MRI382_augmented_image_157.png', 'MRI128_augmented_image_653.png', 'MRI376_augmented_image_49.png', 'MRI338_augmented_image_550.png', 'MRI5_augmented_image_348.png', 'MRI305.png', 'CT47_augmented_image_178.png', 'MRI137_augmented_image_734.png', 'MRI344_augmented_image_462.png', 'MRI32_augmented_image_499.png', 'MRI124_augmented_image_472.png', 'CT42.png', 'PET112.png', 'CT144_augmented_image_180.png', 'MRI182_augmented_image_255.png', 'MRI333.png', 'CT83_augmented_image_723.png', 'CT196.png', 'PET150.png', 'PET202.png', 'MRI305_augmented_image_170.png', 'CT67_augmented_image_65.png', 'PET26.png', 'CT230_augmented_image_121.png', 'MRI165.png', 'MRI301_augmented_image_494.png', 'PET104.png', 'MRI360_augmented_image_473.png', 'MRI76.png', 'MRI387_augmented_image_91.png', 'MRI156.png', 'MRI171_augmented_image_437.png', 'CT258_augmented_image_835.png', 'MRI134_augmented_image_849.png', 'CT301.png', 'PET172.png', 'MRI316.png', 'MRI215_augmented_image_515.png', 'PET183_augmented_image_577.png', 'MRI137.png', 'CT132_augmented_image_718.png', 'PET205_augmented_image_265.png', 'MRI352.png', 'MRI393.png', 'CT268_augmented_image_474.png', 'MRI349_augmented_image_365.png', 'CT33_augmented_image_606.png', 'MRI341.png', 'CT134.png', 'MRI104_augmented_image_586.png', 'MRI252_augmented_image_485.png', 'MRI196.png', 'MRI157_augmented_image_756.png', 'PET116_augmented_image_624.png', 'PET96.png', 'CT210.png', 'MRI268.png', 'MRI331_augmented_image_204.png', 'PET220_augmented_image_15.png', 'CT104_augmented_image_508.png', 'MRI116.png', 'MRI14.png', 'MRI105.png', 'CT330_augmented_image_19.png', 'PET174_augmented_image_786.png', 'CT319.png', 'CT316_augmented_image_732.png', 'MRI84_augmented_image_278.png', 'PET26_augmented_image_241.png', 'CT172.png', 'CT114_augmented_image_532.png', 'PET107_augmented_image_677.png', 'MRI233.png', 'CT48_augmented_image_45.png', 'MRI84.png', 'PET177.png', 'CT79.png', 'MRI165_augmented_image_714.png', 'MRI122.png', 'PET111.png', 'MRI34_augmented_image_716.png', 'MRI410_augmented_image_36.png', 'CT91_augmented_image_455.png', 'CT234_augmented_image_379.png', 'CT102_augmented_image_160.png', 'PET67.png', 'PET260_augmented_image_321.png', 'CT64_augmented_image_828.png', 'MRI36_augmented_image_134.png', 'PET200.png', 'CT208.png', 'MRI376_augmented_image_9.png', 'CT95_augmented_image_534.png', 'MRI322_augmented_image_479.png', 'PET177_augmented_image_56.png', 'CT58.png', 'MRI249.png', 'CT293.png', 'MRI7_augmented_image_821.png', 'MRI194_augmented_image_794.png', 'MRI115_augmented_image_69.png', 'CT255_augmented_image_620.png', 'PET107_augmented_image_523.png', 'CT50_augmented_image_308.png', 'CT323_augmented_image_216.png', 'CT211.png', 'MRI230_augmented_image_128.png', 'CT197.png', 'CT295_augmented_image_251.png', 'CT54.png', 'CT273_augmented_image_74.png', 'PET253_augmented_image_435.png', 'PET115_augmented_image_742.png', 'MRI384.png', 'MRI411_augmented_image_425.png', 'PET29_augmented_image_599.png', 'MRI86_augmented_image_194.png', 'CT49_augmented_image_57.png', 'MRI31_augmented_image_607.png', 'CT206_augmented_image_774.png', 'CT273_augmented_image_404.png', 'PET88_augmented_image_227.png', 'CT99.png', 'PET37_augmented_image_802.png', 'CT304.png', 'MRI278_augmented_image_73.png', 'MRI307.png', 'PET241.png', 'MRI181.png', 'CT233_augmented_image_2.png', 'MRI232_augmented_image_564.png', 'MRI197_augmented_image_108.png', 'MRI165_augmented_image_478.png', 'PET135_augmented_image_589.png', 'PET83_augmented_image_616.png', 'CT297.png', 'PET140_augmented_image_145.png', 'PET186.png', 'PET207.png', 'CT286.png', 'PET236_augmented_image_403.png', 'MRI322.png', 'MRI319.png', 'PET227.png', 'PET260_augmented_image_83.png', 'MRI28_augmented_image_731.png', 'PET211_augmented_image_737.png', 'PET145.png', 'MRI241_augmented_image_109.png', 'MRI46_augmented_image_777.png', 'CT336_augmented_image_780.png', 'MRI239_augmented_image_221.png', 'MRI192.png', 'MRI170_augmented_image_824.png', 'CT98_augmented_image_339.png', 'PET24_augmented_image_623.png', 'CT233_augmented_image_96.png', 'MRI127_augmented_image_475.png', 'PET282_augmented_image_839.png', 'CT280_augmented_image_518.png', 'PET24_augmented_image_43.png', 'PET29.png', 'MRI324_augmented_image_458.png', 'PET129_augmented_image_570.png', 'PET85_augmented_image_838.png', 'CT348_augmented_image_795.png', 'MRI345_augmented_image_728.png', 'CT197_augmented_image_112.png', 'CT175_augmented_image_504.png', 'CT211_augmented_image_819.png', 'MRI198_augmented_image_789.png', 'MRI400.png', 'CT83_augmented_image_464.png', 'PET140.png', 'PET108_augmented_image_841.png', 'MRI367.png', 'MRI393_augmented_image_798.png', 'CT25_augmented_image_630.png', 'CT10.png', 'CT34_augmented_image_177.png', 'MRI298_augmented_image_146.png', 'CT107.png', 'CT48.png', 'CT65.png', 'MRI31_augmented_image_647.png', 'CT337_augmented_image_585.png', 'CT117_augmented_image_656.png', 'MRI99_augmented_image_594.png', 'CT351_augmented_image_791.png', 'PET232.png', 'CT45_augmented_image_709.png', 'PET45.png', 'PET57_augmented_image_386.png', 'MRI377.png', 'PET183.png', 'PET95.png', 'MRI65_augmented_image_66.png', 'CT190_augmented_image_235.png', 'CT14_augmented_image_22.png', 'MRI254_augmented_image_150.png', 'MRI215_augmented_image_215.png', 'PET92_augmented_image_726.png', 'CT30.png', 'PET275_augmented_image_18.png', 'CT45_augmented_image_152.png', 'CT220_augmented_image_770.png', 'CT202_augmented_image_590.png', 'PET164_augmented_image_466.png', 'PET37_augmented_image_465.png', 'PET253.png', 'MRI183_augmented_image_544.png', 'MRI254_augmented_image_283.png', 'CT67.png', 'MRI31_augmented_image_325.png', 'MRI421_augmented_image_24.png', 'PET52.png', 'PET253_augmented_image_712.png', 'MRI74.png', 'MRI411_augmented_image_359.png', 'MRI128_augmented_image_254.png', 'PET219.png', 'PET139_augmented_image_1.png', 'CT34_augmented_image_717.png', 'MRI300_augmented_image_470.png', 'MRI123_augmented_image_700.png', 'PET91.png', 'PET283_augmented_image_426.png', 'MRI212.png', 'CT85_augmented_image_602.png', 'CT330.png', 'PET68_augmented_image_775.png', 'PET259_augmented_image_30.png', 'CT301_augmented_image_538.png', 'PET194_augmented_image_738.png', 'CT298_augmented_image_161.png', 'PET208_augmented_image_420.png', 'PET267.png', 'MRI284.png', 'CT189_augmented_image_37.png', 'PET261_augmented_image_220.png', 'MRI316_augmented_image_260.png', 'CT67_augmented_image_368.png', 'PET211.png', 'MRI125_augmented_image_614.png', 'MRI396.png', 'PET145_augmented_image_531.png', 'CT99_augmented_image_81.png', 'PET230.png', 'CT220_augmented_image_423.png', 'CT294.png', 'MRI171_augmented_image_52.png', 'MRI38_augmented_image_120.png', 'CT110_augmented_image_650.png', 'PET250_augmented_image_521.png', 'PET268_augmented_image_748.png', 'MRI163.png', 'CT325_augmented_image_387.png', 'CT31_augmented_image_513.png', 'PET204_augmented_image_174.png', 'PET156_augmented_image_516.png', 'PET210_augmented_image_747.png', 'CT46.png', 'CT99_augmented_image_667.png', 'CT49.png', 'PET28_augmented_image_567.png', 'CT30_augmented_image_448.png', 'PET103.png', 'PET76_augmented_image_517.png', 'CT272.png', 'CT67_augmented_image_306.png', 'CT66_augmented_image_633.png', 'PET87.png', 'MRI138.png', 'MRI380_augmented_image_752.png', 'MRI114_augmented_image_14.png', 'PET57.png', 'CT215.png', 'MRI104.png', 'PET123_augmented_image_285.png', 'PET261.png', 'MRI341_augmented_image_171.png', 'MRI3_augmented_image_439.png', 'MRI232.png', 'PET267_augmented_image_53.png', 'MRI338_augmented_image_207.png', 'PET266.png', 'MRI297_augmented_image_148.png', 'PET37.png', 'CT155.png', 'CT67_augmented_image_218.png', 'PET247_augmented_image_314.png', 'PET140_augmented_image_414.png', 'MRI49_augmented_image_787.png', 'MRI176_augmented_image_313.png', 'MRI116_augmented_image_441.png', 'PET200_augmented_image_76.png', 'CT78_augmented_image_188.png', 'PET267_augmented_image_222.png', 'CT323_augmented_image_648.png', 'PET139_augmented_image_797.png', 'CT70.png', 'MRI380_augmented_image_395.png', 'MRI396_augmented_image_788.png', 'MRI331.png', 'CT346.png', 'MRI344_augmented_image_832.png', 'PET249_augmented_image_21.png', 'PET152_augmented_image_552.png', 'CT210_augmented_image_453.png', 'MRI38_augmented_image_496.png', 'PET148_augmented_image_143.png', 'PET255.png', 'CT270.png', 'CT84.png', 'MRI252.png', 'CT44_augmented_image_612.png', 'CT269_augmented_image_297.png', 'CT3_augmented_image_724.png', 'MRI125_augmented_image_766.png', 'PET268.png', 'MRI68.png', 'CT83.png', 'PET70_augmented_image_104.png', 'PET57_augmented_image_326.png', 'MRI114_augmented_image_815.png', 'PET68_augmented_image_34.png', 'CT110_augmented_image_498.png', 'MRI142.png', 'PET264_augmented_image_418.png', 'CT271_augmented_image_560.png', 'MRI133_augmented_image_505.png', 'PET227_augmented_image_135.png', 'CT102_augmented_image_347.png', 'PET194_augmented_image_528.png', 'CT316.png', 'PET29_augmented_image_808.png', 'MRI161.png', 'CT129.png', 'CT288.png', 'CT337_augmented_image_672.png', 'PET240_augmented_image_600.png', 'MRI324_augmented_image_601.png', 'MRI234_augmented_image_662.png', 'MRI42_augmented_image_17.png', 'CT135_augmented_image_809.png', 'PET49_augmented_image_163.png', 'CT243.png', 'CT132.png', 'CT172_augmented_image_201.png', 'MRI72_augmented_image_571.png', 'PET255_augmented_image_509.png', 'MRI76_augmented_image_727.png', 'CT3.png', 'MRI344_augmented_image_803.png', 'PET214.png', 'MRI127_augmented_image_294.png', 'CT282_augmented_image_355.png', 'CT325_augmented_image_373.png', 'MRI122_augmented_image_317.png', 'MRI376_augmented_image_206.png', 'MRI116_augmented_image_20.png', 'PET240_augmented_image_847.png', 'MRI147_augmented_image_556.png', 'CT165_augmented_image_232.png', 'MRI28_augmented_image_115.png', 'MRI234_augmented_image_302.png', 'MRI28.png', 'PET56_augmented_image_282.png', 'PET275.png', 'CT17_augmented_image_131.png', 'CT165_augmented_image_90.png', 'CT25_augmented_image_536.png', 'CT339_augmented_image_39.png', 'MRI392_augmented_image_744.png', 'PET92.png', 'MRI147.png', 'MRI128_augmented_image_454.png', 'PET241_augmented_image_87.png', 'PET3_augmented_image_837.png', 'CT242.png', 'PET92_augmented_image_271.png', 'PET143.png', 'CT279_augmented_image_380.png', 'MRI354.png', 'MRI360.png', 'CT330_augmented_image_95.png', 'CT286_augmented_image_559.png', 'CT42_augmented_image_252.png', 'MRI125_augmented_image_169.png', 'MRI62_augmented_image_542.png', 'MRI360_augmented_image_86.png', 'PET148.png', 'CT134_augmented_image_362.png', 'PET186_augmented_image_352.png', 'MRI90_augmented_image_688.png', 'CT77_augmented_image_773.png', 'PET233_augmented_image_183.png', 'PET219_augmented_image_258.png', 'CT234.png', 'MRI3.png', 'PET149.png', 'CT221_augmented_image_130.png', 'CT191.png', 'PET260_augmented_image_323.png', 'MRI356_augmented_image_338.png', 'CT125_augmented_image_369.png', 'MRI302_augmented_image_467.png', 'CT110.png', 'PET264.png', 'MRI86_augmented_image_691.png', 'PET8.png', 'PET266_augmented_image_814.png', 'MRI78.png', 'CT78_augmented_image_140.png', 'MRI141_augmented_image_421.png', 'PET219_augmented_image_139.png', 'CT303.png', 'MRI165_augmented_image_344.png', 'PET256_augmented_image_253.png', 'MRI38_augmented_image_342.png', 'MRI355.png', 'PET24_augmented_image_817.png', 'MRI400_augmented_image_412.png', 'PET247_augmented_image_415.png', 'PET174_augmented_image_659.png', 'PET45_augmented_image_384.png', 'CT255_augmented_image_295.png', 'CT15.png', 'CT114_augmented_image_783.png', 'MRI425_augmented_image_836.png', 'MRI34.png', 'PET227_augmented_image_711.png', 'CT323.png', 'MRI419.png', 'CT304_augmented_image_142.png', 'PET264_augmented_image_272.png', 'CT78.png', 'MRI159_augmented_image_539.png', 'CT91.png', 'CT107_augmented_image_525.png', 'PET135_augmented_image_674.png', 'CT298_augmented_image_658.png', 'CT225_augmented_image_164.png', 'MRI169_augmented_image_471.png', 'MRI343_augmented_image_511.png', 'CT294_augmented_image_110.png', 'CT206_augmented_image_745.png', 'MRI382_augmented_image_684.png', 'MRI387_augmented_image_447.png', 'MRI92.png', 'PET24.png', 'MRI215_augmented_image_489.png', 'MRI99_augmented_image_430.png', 'CT129_augmented_image_743.png', 'MRI115_augmented_image_764.png', 'CT70_augmented_image_507.png', 'PET4.png', 'CT345_augmented_image_223.png', 'MRI12.png', 'PET83.png', 'MRI93_augmented_image_117.png', 'CT42_augmented_image_514.png', 'PET250_augmented_image_165.png', 'PET83_augmented_image_311.png', 'CT190_augmented_image_687.png', 'PET249_augmented_image_527.png', 'MRI80.png', 'PET140_augmented_image_555.png', 'MRI249_augmented_image_322.png', 'MRI110.png', 'PET204.png', 'MRI194_augmented_image_6.png', 'CT237.png', 'MRI114_augmented_image_316.png', 'PET173_augmented_image_409.png', 'MRI304.png', 'CT145.png', 'CT147_augmented_image_68.png', 'CT83_augmented_image_689.png', 'MRI98.png', 'MRI325_augmented_image_288.png', 'CT225_augmented_image_291.png', 'CT225_augmented_image_168.png', 'MRI302_augmented_image_502.png', 'CT114_augmented_image_834.png', 'MRI3_augmented_image_705.png', 'PET246_augmented_image_563.png', 'PET98.png', 'MRI192_augmented_image_225.png', 'MRI392_augmented_image_408.png', 'MRI231_augmented_image_50.png', 'MRI380_augmented_image_242.png', 'CT151_augmented_image_175.png', 'PET87_augmented_image_23.png', 'PET172_augmented_image_77.png', 'MRI5.png', 'CT202.png', 'PET16_augmented_image_399.png', 'PET264_augmented_image_236.png', 'CT295.png', 'CT85_augmented_image_315.png', 'PET249_augmented_image_179.png', 'PET266_augmented_image_493.png', 'CT1_augmented_image_431.png', 'PET140_augmented_image_486.png', 'CT114_augmented_image_82.png', 'CT143_augmented_image_758.png', 'CT132_augmented_image_281.png', 'CT126.png', 'CT323_augmented_image_211.png', 'PET259.png', 'CT54_augmented_image_652.png', 'MRI319_augmented_image_682.png', 'CT297_augmented_image_71.png', 'PET149_augmented_image_32.png', 'CT301_augmented_image_383.png', 'CT353.png', 'CT286_augmented_image_558.png', 'MRI192_augmented_image_158.png', 'CT232_augmented_image_406.png', 'MRI324_augmented_image_554.png', 'CT336_augmented_image_436.png', 'MRI278.png', 'CT83_augmented_image_848.png', 'MRI410_augmented_image_377.png', 'CT212_augmented_image_506.png', 'PET191_augmented_image_845.png', 'PET56.png', 'CT336.png', 'CT189_augmented_image_210.png', 'CT155_augmented_image_389.png', 'MRI128.png', 'PET83_augmented_image_721.png', 'CT325.png', 'PET92_augmented_image_335.png', 'CT213.png', 'CT288_augmented_image_793.png', 'CT268.png', 'CT324_augmented_image_593.png', 'CT350_augmented_image_444.png', 'MRI215.png', 'PET205.png', 'CT156_augmented_image_477.png', 'CT77.png', 'PET153.png', 'PET8_augmented_image_615.png', 'CT233.png', 'CT231_augmented_image_598.png', 'CT234_augmented_image_185.png', 'CT127.png', 'CT269.png', 'MRI128_augmented_image_300.png', 'MRI78_augmented_image_707.png', 'PET32.png', 'CT125.png', 'MRI90_augmented_image_762.png', 'MRI392.png', 'PET205_augmented_image_371.png', 'CT282_augmented_image_353.png', 'CT65_augmented_image_304.png', 'CT205.png', 'PET155_augmented_image_596.png', 'PET67_augmented_image_205.png', 'PET155.png', 'PET207_augmented_image_129.png', 'MRI366.png', 'MRI86.png', 'CT221_augmented_image_772.png', 'MRI390_augmented_image_595.png', 'MRI392_augmented_image_190.png', 'CT85_augmented_image_10.png', 'MRI182_augmented_image_582.png', 'PET265.png', 'PET268_augmented_image_427.png', 'CT232.png', 'CT34_augmented_image_433.png', 'PET70_augmented_image_62.png', 'MRI347_augmented_image_811.png', 'PET240_augmented_image_125.png', 'MRI239_augmented_image_289.png', 'PET79_augmented_image_328.png', 'MRI88.png', 'CT212.png', 'MRI258.png', 'MRI215_augmented_image_810.png', 'MRI268_augmented_image_576.png', 'CT1_augmented_image_510.png', 'CT286_augmented_image_42.png', 'PET159_augmented_image_429.png', 'CT166.png', 'PET266_augmented_image_694.png', 'CT143.png', 'CT298_augmented_image_88.png', 'CT14_augmented_image_123.png', 'PET249.png', 'PET79_augmented_image_214.png', 'MRI98_augmented_image_226.png', 'CT37_augmented_image_257.png', 'MRI18.png', 'MRI367_augmented_image_605.png', 'PET253_augmented_image_655.png', 'MRI410_augmented_image_144.png', 'MRI300.png', 'MRI124_augmented_image_668.png', 'MRI322_augmented_image_710.png', 'CT95_augmented_image_551.png', 'MRI426.png', 'PET173.png', 'PET56_augmented_image_8.png', 'MRI141_augmented_image_500.png', 'CT25.png', 'MRI197_augmented_image_106.png', 'MRI304_augmented_image_268.png', 'PET194.png', 'PET210.png', 'MRI159_augmented_image_715.png', 'PET65_augmented_image_28.png', 'PET70.png', 'MRI125.png', 'PET268_augmented_image_680.png', 'MRI343.png', 'MRI49_augmented_image_203.png', 'PET148_augmented_image_608.png', 'MRI93_augmented_image_228.png', 'MRI338.png', 'PET246_augmented_image_574.png', 'PET210_augmented_image_597.png', 'MRI345_augmented_image_410.png', 'PET200_augmented_image_267.png', 'CT10_augmented_image_94.png', 'CT269_augmented_image_432.png', 'PET172_augmented_image_59.png', 'MRI248_augmented_image_587.png', 'MRI42.png', 'MRI425_augmented_image_299.png', 'MRI292.png', 'MRI343_augmented_image_75.png', 'MRI308.png', 'CT135.png', 'CT103.png', 'CT147.png', 'MRI349_augmented_image_799.png', 'MRI410_augmented_image_446.png', 'MRI347_augmented_image_33.png', 'MRI343_augmented_image_103.png', 'MRI229.png', 'CT343_augmented_image_137.png', 'CT77_augmented_image_193.png', 'CT17_augmented_image_334.png', 'PET87_augmented_image_151.png', 'MRI95_augmented_image_12.png', 'CT25_augmented_image_213.png', 'MRI425_augmented_image_622.png', 'PET135_augmented_image_116.png', 'MRI390.png', 'MRI324_augmented_image_275.png', 'CT79_augmented_image_5.png', 'CT231.png', 'MRI232_augmented_image_189.png', 'MRI324_augmented_image_330.png', 'MRI239_augmented_image_324.png', 'CT192_augmented_image_247.png', 'MRI197.png', 'MRI297_augmented_image_561.png', 'CT114_augmented_image_535.png', 'CT98.png', 'MRI184.png', 'PET24_augmented_image_92.png', 'PET96_augmented_image_264.png', 'CT95_augmented_image_671.png', 'MRI421_augmented_image_198.png', 'MRI258_augmented_image_698.png', 'MRI20.png', 'MRI234.png', 'MRI234_augmented_image_720.png', 'MRI410.png', 'MRI15_augmented_image_231.png', 'CT263_augmented_image_360.png', 'MRI191.png', 'CT210_augmented_image_459.png', 'PET265_augmented_image_31.png', 'CT324.png', 'MRI393_augmented_image_72.png', 'CT49_augmented_image_44.png', 'CT33_augmented_image_424.png', 'PET88_augmented_image_394.png', 'PET98_augmented_image_197.png', 'MRI380.png', 'MRI179.png', 'MRI348_augmented_image_349.png', 'CT143_augmented_image_741.png', 'MRI241.png', 'CT329.png', 'CT146_augmented_image_695.png', 'MRI384_augmented_image_187.png', 'MRI127_augmented_image_350.png', 'MRI260_augmented_image_768.png', 'MRI99.png', 'MRI95_augmented_image_202.png', 'PET152_augmented_image_48.png', 'CT37.png', 'PET159.png', 'CT125_augmented_image_771.png', 'CT196_augmented_image_261.png', 'MRI74_augmented_image_127.png', 'PET250.png', 'CT221_augmented_image_133.png', 'CT225_augmented_image_388.png', 'MRI387.png', 'PET59.png', 'MRI16_augmented_image_38.png', 'MRI241_augmented_image_443.png', 'CT31_augmented_image_665.png', 'MRI131.png', 'PET282.png', 'MRI130_augmented_image_592.png', 'PET76_augmented_image_562.png', 'CT161_augmented_image_256.png', 'CT263.png', 'CT1_augmented_image_543.png', 'PET225_augmented_image_340.png', 'CT192_augmented_image_107.png', 'CT230_augmented_image_266.png', 'MRI15.png', 'MRI411_augmented_image_428.png', 'PET152_augmented_image_757.png', 'MRI325.png', 'MRI115_augmented_image_760.png', 'MRI215_augmented_image_497.png', 'CT319_augmented_image_3.png', 'PET202_augmented_image_843.png', 'PET268_augmented_image_392.png', 'CT142_augmented_image_512.png', 'MRI245.png', 'MRI302_augmented_image_154.png', 'MRI316_augmented_image_782.png', 'MRI141.png', 'MRI417_augmented_image_701.png', 'PET119_augmented_image_568.png', 'MRI141_augmented_image_675.png', 'CT142.png', 'MRI139_augmented_image_162.png', 'CT151_augmented_image_664.png', 'PET87_augmented_image_79.png', 'CT85.png', 'PET174_augmented_image_192.png', 'MRI254.png', 'CT144.png', 'PET177_augmented_image_565.png', 'CT323_augmented_image_378.png', 'CT213_augmented_image_763.png', 'MRI76_augmented_image_419.png', 'CT209.png', 'PET228_augmented_image_341.png', 'CT31.png', 'MRI156_augmented_image_136.png', 'MRI339_augmented_image_375.png', 'MRI248.png', 'MRI7.png', 'CT44_augmented_image_442.png', 'PET231.png', 'PET152_augmented_image_492.png', 'MRI248_augmented_image_269.png', 'MRI231.png', 'MRI49.png', 'CT47_augmented_image_238.png', 'CT165.png', 'MRI48_augmented_image_363.png', 'MRI324_augmented_image_735.png', 'CT33_augmented_image_644.png', 'CT273.png', 'MRI115.png', 'PET233.png', 'MRI347.png', 'MRI356.png', 'CT127_augmented_image_553.png', 'MRI20_augmented_image_93.png', 'CT319_augmented_image_704.png', 'CT79_augmented_image_292.png', 'CT79_augmented_image_673.png', 'MRI276_augmented_image_70.png', 'MRI171_augmented_image_141.png', 'PET184.png', 'MRI337.png', 'PET145_augmented_image_64.png', 'CT45.png', 'CT286_augmented_image_769.png', 'CT34.png', 'MRI229_augmented_image_400.png', 'MRI260.png', 'PET88.png', 'CT50_augmented_image_385.png', 'MRI255.png', 'MRI30_augmented_image_370.png', 'PET49_augmented_image_754.png', 'MRI139.png', 'MRI344_augmented_image_524.png', 'MRI98_augmented_image_844.png', 'MRI339.png', 'CT14_augmented_image_463.png', 'MRI16_augmented_image_374.png', 'CT146.png', 'CT182.png', 'PET194_augmented_image_416.png', 'CT42_augmented_image_484.png', 'MRI176.png', 'PET79.png', 'PET249_augmented_image_58.png', 'CT31_augmented_image_468.png', 'CT65_augmented_image_181.png', 'PET220.png', 'MRI324.png', 'CT67_augmented_image_191.png', 'MRI34_augmented_image_495.png', 'MRI390_augmented_image_580.png', 'CT104.png', 'CT116.png', 'MRI337_augmented_image_476.png', 'CT155_augmented_image_820.png', 'PET96_augmented_image_331.png', 'CT328_augmented_image_372.png', 'PET208.png', 'MRI306.png', 'CT114.png', 'MRI31_augmented_image_114.png', 'CT348_augmented_image_351.png', 'CT279_augmented_image_816.png', 'MRI161_augmented_image_217.png', 'PET228.png', 'PET191.png', 'MRI382.png', 'CT175_augmented_image_681.png', 'PET228_augmented_image_26.png', 'CT176_augmented_image_736.png', 'MRI14_augmented_image_686.png', 'PET231_augmented_image_298.png', 'MRI130.png', 'CT102.png']\n"
     ]
    }
   ],
   "source": [
    "print(os.getcwd())\n",
    "\n",
    "#creo lista di nomi \n",
    "directories = ['data/train/', \n",
    "               'data/val/', \n",
    "               'data/test/']\n",
    "\n",
    "train_file_names = [f for f in listdir(directories[0]) if isfile(join(directories[0], f))]\n",
    "val_file_names = [f for f in listdir(directories[1]) if isfile(join(directories[1], f))]\n",
    "test_file_names = [f for f in listdir(directories[2]) if isfile(join(directories[2], f))]\n",
    "\n",
    "_file_names = [train_file_names, val_file_names, test_file_names] \n",
    "\n",
    "print(train_file_names)"
   ]
  },
  {
   "cell_type": "code",
   "execution_count": 81,
   "metadata": {},
   "outputs": [
    {
     "name": "stdout",
     "output_type": "stream",
     "text": [
      "Numbero di immagini CT in data/train/ : 443\n",
      "Numbero di immagini MRI in data/train/ : 489\n",
      "Numbero di immagini PET in data/train/ : 343\n",
      "Numbero di immagini CT in data/val/ : 142\n",
      "Numbero di immagini MRI in data/val/ : 170\n",
      "Numbero di immagini PET in data/val/ : 114\n",
      "Numbero di immagini CT in data/test/ : 71\n",
      "Numbero di immagini MRI in data/test/ : 86\n",
      "Numbero di immagini PET in data/test/ : 57\n"
     ]
    }
   ],
   "source": [
    "#numero immagini per categoria\n",
    "scans = ['CT','MRI','PET']\n",
    "numbers=[]\n",
    "minimi=[]\n",
    "\n",
    "for directory in directories:    \n",
    "    for scan in scans:\n",
    "        a = len([f for f in listdir(directory) if f[:2]==scan[:2]])\n",
    "        print('Numbero di immagini', scan, 'in', directory,':', a)\n",
    "        numbers.append(a)\n",
    "    minimi.append(min(numbers))\n",
    "\n",
    "#print(minimi)\n",
    "#=> è sempre la PET che ha il numero minore"
   ]
  },
  {
   "cell_type": "code",
   "execution_count": 82,
   "metadata": {},
   "outputs": [],
   "source": [
    "#creo la lista di file bilanciata: n.b  la percentuale viene mantenuta\n",
    "train_final_file_names=[]\n",
    "val_final_file_names=[]\n",
    "test_final_file_names=[]\n",
    "_final_file_names = [train_final_file_names, val_final_file_names, test_final_file_names] \n",
    "\n",
    "l=[]\n",
    "for directory,minimo,name in zip(directories, minimi,_final_file_names):    \n",
    "    for scan in scans:\n",
    "        l = [f for f in listdir(directory) if f[:2]==scan[:2]]\n",
    "        random.shuffle(l)\n",
    "        l = l[:minimo]\n",
    "        name.extend(l) #estendo la lista (don't append)\n",
    "        \n",
    "# How I cicled ^^^\n",
    "\n",
    "#    minimo |\n",
    "#    name   |\n",
    "#    train  | val | test\n",
    "# \n",
    "# CT    ... | ... | ...\n",
    "# MRI   ... | ... | ...\n",
    "# PET   ... | ... | ..."
   ]
  },
  {
   "cell_type": "code",
   "execution_count": 83,
   "metadata": {},
   "outputs": [
    {
     "name": "stdout",
     "output_type": "stream",
     "text": [
      "DATASET\n",
      "Training 1029 , Validation: 342 , Test: 171\n"
     ]
    }
   ],
   "source": [
    "print(\"DATASET\")\n",
    "print(\"Training\", len(train_final_file_names), \", Validation:\", len(val_final_file_names) ,\", Test:\", len(test_final_file_names))"
   ]
  },
  {
   "cell_type": "markdown",
   "metadata": {},
   "source": [
    "## Converto le immagini in tensori"
   ]
  },
  {
   "cell_type": "code",
   "execution_count": 84,
   "metadata": {},
   "outputs": [],
   "source": [
    "from skimage import io\n",
    "import matplotlib.pyplot as plt\n",
    "import cv2"
   ]
  },
  {
   "cell_type": "markdown",
   "metadata": {},
   "source": [
    "### X"
   ]
  },
  {
   "cell_type": "code",
   "execution_count": 85,
   "metadata": {},
   "outputs": [],
   "source": [
    "def WriteAndArrayImages(path):\n",
    "    x = io.imread(path[random.randint(0,10)])\n",
    "    x = cv2.resize(x, dsize=(128,128))\n",
    "    \n",
    "    for img in path[1:]:\n",
    "        img = io.imread(img)\n",
    "        img = cv2.resize(img, dsize=(128,128))\n",
    "        x = np.dstack((x,img))\n",
    "    x = np.rollaxis(x,-1)\n",
    "    return x"
   ]
  },
  {
   "cell_type": "code",
   "execution_count": 86,
   "metadata": {},
   "outputs": [
    {
     "name": "stdout",
     "output_type": "stream",
     "text": [
      "(1029, 128, 128)\n",
      "(342, 128, 128)\n",
      "(171, 128, 128)\n"
     ]
    },
    {
     "data": {
      "text/plain": [
       "<matplotlib.image.AxesImage at 0x7f031e654c40>"
      ]
     },
     "execution_count": 86,
     "metadata": {},
     "output_type": "execute_result"
    },
    {
     "data": {
      "image/png": "[encoded data removed]",
      "text/plain": [
       "<Figure size 1080x1080 with 3 Axes>"
      ]
     },
     "metadata": {
      "needs_background": "light"
     },
     "output_type": "display_data"
    }
   ],
   "source": [
    "import numpy as np\n",
    "\n",
    "#paths per leggere le immagini\n",
    "train_paths=[]\n",
    "val_paths=[]\n",
    "test_paths=[]\n",
    "_paths=[train_paths,val_paths,test_paths]\n",
    "\n",
    "for path,name,directory in zip(_paths,_final_file_names,directories):\n",
    "    for f in name:\n",
    "        path.append(directory+f)\n",
    "\n",
    "#leggo le immagini e le stacco una sopra l'altra\n",
    "x_train = WriteAndArrayImages(train_paths)\n",
    "x_val = WriteAndArrayImages(val_paths)\n",
    "x_test = WriteAndArrayImages(test_paths)\n",
    "\n",
    "print(x_train.shape)\n",
    "print(x_val.shape)\n",
    "print(x_test.shape)\n",
    "\n",
    "#plot images from each dataset\n",
    "f, axarr = plt.subplots(1,3,figsize=(15, 15))\n",
    "axarr[0].imshow(x_train[random.randint(0,100)], cmap=plt.cm.gray)\n",
    "axarr[1].imshow(x_val[random.randint(0,100)], cmap=plt.cm.gray)\n",
    "axarr[2].imshow(x_test[random.randint(0,100)], cmap=plt.cm.gray)"
   ]
  },
  {
   "cell_type": "markdown",
   "metadata": {},
   "source": [
    "### Y"
   ]
  },
  {
   "cell_type": "code",
   "execution_count": 87,
   "metadata": {},
   "outputs": [],
   "source": [
    "def MakeLabels(_name_files):\n",
    "    y=[]\n",
    "    for text in _name_files:\n",
    "        fileNameOnly = text[:text.find(ext)]\n",
    "        y.append(''.join([i for i in fileNameOnly if not i.isdigit()]))\n",
    "    for i, item in enumerate(y):\n",
    "        if item == 'CT':\n",
    "            y[i] = 0\n",
    "        elif item == 'MRI':\n",
    "            y[i] = 1\n",
    "        else: y[i] = 2    \n",
    "    y = np.concatenate((y,))\n",
    "    return y"
   ]
  },
  {
   "cell_type": "code",
   "execution_count": 88,
   "metadata": {},
   "outputs": [],
   "source": [
    "#estensione immagini\n",
    "ext = '.png'\n",
    "\n",
    "#costruisco le lables\n",
    "y_train = MakeLabels(_final_file_names[0])\n",
    "y_val = MakeLabels(_final_file_names[1])\n",
    "y_test = MakeLabels(_final_file_names[2])"
   ]
  },
  {
   "cell_type": "code",
   "execution_count": 89,
   "metadata": {},
   "outputs": [
    {
     "name": "stdout",
     "output_type": "stream",
     "text": [
      "Ok, le lunghezze combaciano con le X\n",
      "Ok, le lunghezze combaciano con le X\n",
      "Ok, le lunghezze combaciano con le X\n",
      "Clusters: 3\n"
     ]
    }
   ],
   "source": [
    "#check\n",
    "X = [x_train, x_val, x_test]\n",
    "Y = [y_train, y_val, y_test]\n",
    "\n",
    "for x,y in zip(X,Y):\n",
    "    if len(x) != len(y):\n",
    "        print(len(x))\n",
    "        print(len(y))\n",
    "        print('Error! La lunghezza delle liste non combacia!')\n",
    "    else: \n",
    "        print('Ok, le lunghezze combaciano con le X')\n",
    "\n",
    "#controlla numero di cluster (expected 3)\n",
    "n_clusters = len(np.unique(y))\n",
    "print('Clusters:', n_clusters)"
   ]
  },
  {
   "cell_type": "markdown",
   "metadata": {},
   "source": [
    "### Reshape images for autoencoder"
   ]
  },
  {
   "cell_type": "code",
   "execution_count": 90,
   "metadata": {},
   "outputs": [
    {
     "name": "stdout",
     "output_type": "stream",
     "text": [
      "(1029, 128, 128, 1)\n",
      "(342, 128, 128, 1)\n",
      "(171, 128, 128, 1)\n"
     ]
    }
   ],
   "source": [
    "#use this function for reshaping arrays for CAE\n",
    "def ReshapeCAE(array):\n",
    "    array = array.reshape(array.shape + (1,))\n",
    "    array = array/255.\n",
    "    return array\n",
    "\n",
    "x_train = ReshapeCAE(x_train)\n",
    "x_val = ReshapeCAE(x_val)\n",
    "x_test = ReshapeCAE(x_test)\n",
    "\n",
    "print(x_train.shape)\n",
    "print(x_val.shape)\n",
    "print(x_test.shape)"
   ]
  },
  {
   "cell_type": "markdown",
   "metadata": {},
   "source": [
    "# Convolutional Autoencoder"
   ]
  },
  {
   "cell_type": "code",
   "execution_count": 91,
   "metadata": {},
   "outputs": [],
   "source": [
    "from keras.models import Model\n",
    "from keras import backend as K\n",
    "from keras import layers\n",
    "from keras.layers import Input, Dense, Conv2D, MaxPooling2D, UpSampling2D, Flatten, Reshape, Conv2DTranspose\n",
    "from keras.models import Model"
   ]
  },
  {
   "cell_type": "markdown",
   "metadata": {},
   "source": [
    "## CAE Conv2DTranspose (paper)"
   ]
  },
  {
   "cell_type": "code",
   "execution_count": 92,
   "metadata": {},
   "outputs": [],
   "source": [
    "def CAE_Conv2DTranspose(input_shape=(128, 128, 1), filters=[32, 64, 128, 256, 512, 1024, 3]):\n",
    "    \n",
    "    '''\n",
    "    CAE_Upsampling2D convolutional autoencoder model.\n",
    "    \n",
    "    Arguments:\n",
    "        img_shape: (128, 128, 1)\n",
    "        filters: [32, 64, 128, 256, 512, 1024, 3]\n",
    "    \n",
    "    return:\n",
    "        Models of autoencoder and encoder\n",
    "            (autoencoder, encoder)\n",
    "            \n",
    "        outputs:\n",
    "            autoencoder: encoded\n",
    "            encoder: decoded\n",
    "    '''\n",
    "    \n",
    "    input_img = Input(shape=input_shape)\n",
    "    \n",
    "    #Encoder\n",
    "    x = Conv2D(filters[0], 3, strides=2, padding='same', activation='relu', name='conv1', input_shape=input_shape)(input_img)\n",
    "    x = Conv2D(filters[1], 3, strides=2, padding='same', activation='relu', name='conv2')(x)\n",
    "    x = Conv2D(filters[2], 3, strides=2, padding='same', activation='relu', name='conv3')(x)\n",
    "    x = Conv2D(filters[3], 3, strides=2, padding='same', activation='relu', name='conv4')(x)\n",
    "    x = Conv2D(filters[4], 3, strides=2, padding='same', activation='relu', name='conv5')(x)\n",
    "    x = Conv2D(filters[5], 3, strides=2, padding='same', activation='relu', name='conv6')(x)\n",
    "    \n",
    "    x = Flatten()(x)\n",
    "    \n",
    "    encoded = Dense(units=filters[6], name='embedding')(x)\n",
    "    \n",
    "    #Decoder\n",
    "    x = Dense(units=filters[5]*int(input_shape[0]/64)*int(input_shape[0]/64), activation='relu')(encoded)\n",
    "\n",
    "    # Reshape into an image of the same shape as before our last `Flatten` layer\n",
    "    x = Reshape((int(input_shape[0]/64), int(input_shape[0]/64), filters[5]))(x)\n",
    "    \n",
    "    x = Conv2DTranspose(filters[4], 3, strides=2, padding='same', activation='relu', name='deconv6')(x)\n",
    "    x = Conv2DTranspose(filters[3], 3, strides=2, padding='same', activation='relu', name='deconv5')(x)\n",
    "    x = Conv2DTranspose(filters[2], 3, strides=2, padding='same', activation='relu', name='deconv4')(x)\n",
    "    x = Conv2DTranspose(filters[1], 3, strides=2, padding='same', activation='relu', name='deconv3')(x)\n",
    "    x = Conv2DTranspose(filters[0], 3, strides=2, padding='same', activation='relu', name='deconv2')(x)\n",
    "\n",
    "    decoded = Conv2DTranspose(input_shape[2], 3, strides=2, padding='same', name='deconv1')(x)\n",
    "    \n",
    "    return Model(inputs=input_img, outputs=decoded, name='CAE_Conv2DTranspose'), Model(inputs=input_img, outputs=encoded, name='CE')"
   ]
  },
  {
   "cell_type": "code",
   "execution_count": 93,
   "metadata": {},
   "outputs": [
    {
     "name": "stdout",
     "output_type": "stream",
     "text": [
      "Model: \"CE\"\n",
      "_________________________________________________________________\n",
      "Layer (type)                 Output Shape              Param #   \n",
      "=================================================================\n",
      "input_14 (InputLayer)        (None, 128, 128, 1)       0         \n",
      "_________________________________________________________________\n",
      "conv1 (Conv2D)               (None, 64, 64, 32)        320       \n",
      "_________________________________________________________________\n",
      "conv2 (Conv2D)               (None, 32, 32, 64)        18496     \n",
      "_________________________________________________________________\n",
      "conv3 (Conv2D)               (None, 16, 16, 128)       73856     \n",
      "_________________________________________________________________\n",
      "conv4 (Conv2D)               (None, 8, 8, 256)         295168    \n",
      "_________________________________________________________________\n",
      "conv5 (Conv2D)               (None, 4, 4, 512)         1180160   \n",
      "_________________________________________________________________\n",
      "conv6 (Conv2D)               (None, 2, 2, 1024)        4719616   \n",
      "_________________________________________________________________\n",
      "flatten_14 (Flatten)         (None, 4096)              0         \n",
      "_________________________________________________________________\n",
      "embedding (Dense)            (None, 3)                 12291     \n",
      "=================================================================\n",
      "Total params: 6,299,907\n",
      "Trainable params: 6,299,907\n",
      "Non-trainable params: 0\n",
      "_________________________________________________________________\n",
      "Model: \"CAE_Conv2DTranspose\"\n",
      "_________________________________________________________________\n",
      "Layer (type)                 Output Shape              Param #   \n",
      "=================================================================\n",
      "input_14 (InputLayer)        (None, 128, 128, 1)       0         \n",
      "_________________________________________________________________\n",
      "conv1 (Conv2D)               (None, 64, 64, 32)        320       \n",
      "_________________________________________________________________\n",
      "conv2 (Conv2D)               (None, 32, 32, 64)        18496     \n",
      "_________________________________________________________________\n",
      "conv3 (Conv2D)               (None, 16, 16, 128)       73856     \n",
      "_________________________________________________________________\n",
      "conv4 (Conv2D)               (None, 8, 8, 256)         295168    \n",
      "_________________________________________________________________\n",
      "conv5 (Conv2D)               (None, 4, 4, 512)         1180160   \n",
      "_________________________________________________________________\n",
      "conv6 (Conv2D)               (None, 2, 2, 1024)        4719616   \n",
      "_________________________________________________________________\n",
      "flatten_14 (Flatten)         (None, 4096)              0         \n",
      "_________________________________________________________________\n",
      "embedding (Dense)            (None, 3)                 12291     \n",
      "_________________________________________________________________\n",
      "dense_14 (Dense)             (None, 4096)              16384     \n",
      "_________________________________________________________________\n",
      "reshape_14 (Reshape)         (None, 2, 2, 1024)        0         \n",
      "_________________________________________________________________\n",
      "deconv6 (Conv2DTranspose)    (None, 4, 4, 512)         4719104   \n",
      "_________________________________________________________________\n",
      "deconv5 (Conv2DTranspose)    (None, 8, 8, 256)         1179904   \n",
      "_________________________________________________________________\n",
      "deconv4 (Conv2DTranspose)    (None, 16, 16, 128)       295040    \n",
      "_________________________________________________________________\n",
      "deconv3 (Conv2DTranspose)    (None, 32, 32, 64)        73792     \n",
      "_________________________________________________________________\n",
      "deconv2 (Conv2DTranspose)    (None, 64, 64, 32)        18464     \n",
      "_________________________________________________________________\n",
      "deconv1 (Conv2DTranspose)    (None, 128, 128, 1)       289       \n",
      "=================================================================\n",
      "Total params: 12,602,884\n",
      "Trainable params: 12,602,884\n",
      "Non-trainable params: 0\n",
      "_________________________________________________________________\n"
     ]
    }
   ],
   "source": [
    "autoencoder, encoder = CAE_Conv2DTranspose()\n",
    "encoder.summary()\n",
    "autoencoder.summary()"
   ]
  },
  {
   "cell_type": "markdown",
   "metadata": {},
   "source": [
    "# Pretrain"
   ]
  },
  {
   "cell_type": "code",
   "execution_count": 94,
   "metadata": {},
   "outputs": [],
   "source": [
    "from keras.initializers import VarianceScaling\n",
    "from keras.optimizers import SGD\n",
    "\n",
    "init = VarianceScaling(scale=1. / 3., mode='fan_in', distribution='uniform')\n",
    "\n",
    "pretrain_epochs = 500 #####\n",
    "batch_size = 16 #####"
   ]
  },
  {
   "cell_type": "code",
   "execution_count": 95,
   "metadata": {},
   "outputs": [],
   "source": [
    "#dir results\n",
    "save_dir = './results'\n",
    "if not os.path.exists(save_dir):\n",
    "    os.makedirs(save_dir)"
   ]
  },
  {
   "cell_type": "code",
   "execution_count": null,
   "metadata": {
    "scrolled": true
   },
   "outputs": [
    {
     "name": "stdout",
     "output_type": "stream",
     "text": [
      "Train on 1029 samples, validate on 342 samples\n",
      "Epoch 1/500\n",
      "1029/1029 [==============================] - 139s 135ms/step - loss: 0.0290 - val_loss: 0.0146\n",
      "Epoch 2/500\n",
      "1029/1029 [==============================] - 100s 97ms/step - loss: 0.0120 - val_loss: 0.0084\n",
      "Epoch 3/500\n",
      "1029/1029 [==============================] - 99s 96ms/step - loss: 0.0089 - val_loss: 0.0100\n",
      "Epoch 4/500\n",
      "1029/1029 [==============================] - 99s 96ms/step - loss: 0.0091 - val_loss: 0.0078\n",
      "Epoch 5/500\n",
      "1029/1029 [==============================] - 99s 96ms/step - loss: 0.0080 - val_loss: 0.0067\n",
      "Epoch 6/500\n",
      "1029/1029 [==============================] - 100s 97ms/step - loss: 0.0080 - val_loss: 0.0064\n",
      "Epoch 7/500\n",
      "1029/1029 [==============================] - 100s 98ms/step - loss: 0.0069 - val_loss: 0.0056\n",
      "Epoch 8/500\n",
      "1029/1029 [==============================] - 99s 96ms/step - loss: 0.0069 - val_loss: 0.0053\n",
      "Epoch 9/500\n",
      "1029/1029 [==============================] - 99s 96ms/step - loss: 0.0062 - val_loss: 0.0053\n",
      "Epoch 10/500\n",
      "1029/1029 [==============================] - 100s 98ms/step - loss: 0.0060 - val_loss: 0.0049\n",
      "Epoch 11/500\n",
      "1029/1029 [==============================] - 99s 96ms/step - loss: 0.0057 - val_loss: 0.0053\n",
      "Epoch 12/500\n",
      "1029/1029 [==============================] - 100s 97ms/step - loss: 0.0065 - val_loss: 0.0053\n",
      "Epoch 13/500\n",
      "1029/1029 [==============================] - 100s 98ms/step - loss: 0.0054 - val_loss: 0.0046\n",
      "Epoch 14/500\n",
      "1029/1029 [==============================] - 100s 97ms/step - loss: 0.0052 - val_loss: 0.0045\n",
      "Epoch 15/500\n",
      "1029/1029 [==============================] - 101s 98ms/step - loss: 0.0051 - val_loss: 0.0044\n",
      "Epoch 16/500\n",
      "1029/1029 [==============================] - 117s 113ms/step - loss: 0.0050 - val_loss: 0.0042\n",
      "Epoch 17/500\n",
      "1029/1029 [==============================] - 194s 188ms/step - loss: 0.0049 - val_loss: 0.0051\n",
      "Epoch 18/500\n",
      "1029/1029 [==============================] - 152s 148ms/step - loss: 0.0051 - val_loss: 0.0043\n",
      "Epoch 19/500\n",
      " 560/1029 [===============>..............] - ETA: 46s - loss: 0.0049"
     ]
    }
   ],
   "source": [
    "from keras.callbacks import TensorBoard\n",
    "\n",
    "autoencoder.compile(optimizer='adam', loss='mse')\n",
    "\n",
    "autoencoder.fit(x_train, \n",
    "                x_train, \n",
    "                batch_size=batch_size, \n",
    "                epochs=pretrain_epochs, \n",
    "                validation_data=(x_val, x_val),\n",
    "                shuffle=True,\n",
    "                use_multiprocessing=True,\n",
    "                callbacks=[TensorBoard(log_dir='/tmp/autoencoder')]\n",
    "               )"
   ]
  },
  {
   "cell_type": "code",
   "execution_count": null,
   "metadata": {},
   "outputs": [],
   "source": [
    "autoencoder.save_weights(save_dir+'/cae_conv2Dtranspose_weights.h5')\n"
   ]
  },
  {
   "cell_type": "markdown",
   "metadata": {},
   "source": [
    "## Plot train and validation loss "
   ]
  },
  {
   "cell_type": "code",
   "execution_count": null,
   "metadata": {
    "scrolled": false
   },
   "outputs": [],
   "source": [
    "#plot train and validation loss of pretraining\n",
    "plt.figure(figsize=(15,10))\n",
    "plt.plot(autoencoder.history.history['loss'])\n",
    "plt.plot(autoencoder.history.history['val_loss'])\n",
    "plt.title('Autoencoder loss')\n",
    "plt.ylabel('Loss')\n",
    "plt.xlabel('Epoch')\n",
    "plt.legend(['Train', 'Validation'])\n",
    "plt.show()\n",
    "\n",
    "#path = 'results/metrics_training/loss_autoencoder_pretrain.png'\n",
    "#plt.savefig(path)"
   ]
  },
  {
   "cell_type": "markdown",
   "metadata": {},
   "source": [
    "# Show prediction after pretraining CAE"
   ]
  },
  {
   "cell_type": "code",
   "execution_count": null,
   "metadata": {},
   "outputs": [],
   "source": [
    "#predict images and display\n",
    "\n",
    "directories = ['data/train/', \n",
    "               'data/val/', \n",
    "               'data/test/']\n",
    "\n",
    "scans=['CT','MRI','PET']\n",
    "\n",
    "def PickListImagesPerType(directory,scan):\n",
    "    names = [f for f in listdir(directory) if f[:2]==scan[:2]]\n",
    "    return names\n",
    "\n",
    "def PickOneImage(names,directory,n):\n",
    "    image = io.imread(directory+names[n])\n",
    "    image = cv2.resize(image, dsize=(128,128))\n",
    "    return image"
   ]
  },
  {
   "cell_type": "markdown",
   "metadata": {},
   "source": [
    "## Prediction on test dataset\n",
    "\n",
    "Da riscrivere meglio scrivendo una funzione pred(path della directory di immagini (train, val, test)).\n",
    "È tutto qui sotto è solo da mettere in un'unica funzione!"
   ]
  },
  {
   "cell_type": "code",
   "execution_count": null,
   "metadata": {},
   "outputs": [],
   "source": [
    "#image layer to display (change this to display different images and respective decoded ones)\n",
    "n = 6\n",
    "\n",
    "#ORIGINAL IMAGES\n",
    "#pick one image per type of scan\n",
    "imgsCT = PickOneImage(PickListImagesPerType(directories[2],scans[0]),directories[2],n)\n",
    "imgsMRI = PickOneImage(PickListImagesPerType(directories[2],scans[1]),directories[2],n)\n",
    "imgsPET = PickOneImage(PickListImagesPerType(directories[2],scans[2]),directories[2],n)\n",
    "\n",
    "#DECODED IMAGES\n",
    "#costruisco la lista di immagini da decodificare\n",
    "listaCT=[]\n",
    "for f in PickListImagesPerType(directories[2],scans[0]): \n",
    "    listaCT.append(join(directories[2], f))\n",
    "\n",
    "listaMRI=[]\n",
    "for f in PickListImagesPerType(directories[2],scans[1]): \n",
    "    listaMRI.append(join(directories[2], f))\n",
    "    \n",
    "listaPET=[]\n",
    "for f in PickListImagesPerType(directories[2],scans[2]): \n",
    "    listaPET.append(join(directories[2], f))\n",
    "\n",
    "#decode images per type of scan\n",
    "decoded_imgsCT = autoencoder.predict(ReshapeCAE(WriteAndArrayImages(listaCT)))\n",
    "decoded_imgsMRI = autoencoder.predict(ReshapeCAE(WriteAndArrayImages(listaMRI)))\n",
    "decoded_imgsPET = autoencoder.predict(ReshapeCAE(WriteAndArrayImages(listaPET)))\n",
    "\n",
    "#select one decoded image and make in plottable\n",
    "decoded_imgCT = decoded_imgsCT[n].reshape(128,128)\n",
    "decoded_imgMRI = decoded_imgsMRI[n].reshape(128,128)\n",
    "decoded_imgPET = decoded_imgsPET[n].reshape(128,128)\n",
    "\n",
    "fig = plt.figure(figsize=(13,10))\n",
    "\n",
    "#plot images\n",
    "ax = plt.subplot(2,3,1)\n",
    "plt.imshow(imgsCT)\n",
    "plt.gray()\n",
    "ax.get_xaxis().set_visible(False)\n",
    "ax.get_yaxis().set_visible(False)\n",
    "\n",
    "ax = plt.subplot(2,3,2)\n",
    "plt.imshow(imgsMRI)\n",
    "plt.gray()\n",
    "ax.get_xaxis().set_visible(False)\n",
    "ax.get_yaxis().set_visible(False)\n",
    "\n",
    "ax = plt.subplot(2,3,3)\n",
    "plt.imshow(imgsPET)\n",
    "plt.gray()\n",
    "ax.get_xaxis().set_visible(False)\n",
    "ax.get_yaxis().set_visible(False)\n",
    "\n",
    "ax = plt.subplot(2,3,4)\n",
    "plt.imshow(decoded_imgCT)\n",
    "plt.gray()\n",
    "ax.get_xaxis().set_visible(False)\n",
    "ax.get_yaxis().set_visible(False)\n",
    "\n",
    "ax = plt.subplot(2,3,5)\n",
    "plt.imshow(decoded_imgMRI)\n",
    "plt.gray()\n",
    "ax.get_xaxis().set_visible(False)\n",
    "ax.get_yaxis().set_visible(False)\n",
    "\n",
    "ax = plt.subplot(2,3,6)\n",
    "plt.imshow(decoded_imgPET)\n",
    "plt.gray()\n",
    "ax.get_xaxis().set_visible(False)\n",
    "ax.get_yaxis().set_visible(False)\n",
    "\n",
    "plt.subplots_adjust(wspace=0.2, hspace=-0.3)"
   ]
  },
  {
   "cell_type": "markdown",
   "metadata": {},
   "source": [
    "# DCEC Model"
   ]
  },
  {
   "cell_type": "code",
   "execution_count": 74,
   "metadata": {},
   "outputs": [],
   "source": [
    "#autoencoder.load_weights(save_dir+'/cae_upsampling2D_weights.h5')\n",
    "#autoencoder.load_weights(save_dir+'/cae_conv2Dtranspose_weights.h5')"
   ]
  },
  {
   "cell_type": "markdown",
   "metadata": {},
   "source": [
    "### Clustering Layer"
   ]
  },
  {
   "cell_type": "code",
   "execution_count": 75,
   "metadata": {},
   "outputs": [],
   "source": [
    "from keras.engine.topology import Layer\n",
    "\n",
    "class ClusteringLayer(Layer):\n",
    "    \"\"\"\n",
    "    Clustering layer converts input sample (feature) to soft label, i.e. a vector that represents the probability of the\n",
    "    sample belonging to each cluster. The probability is calculated with student's t-distribution.\n",
    "\n",
    "    # Example\n",
    "    ```\n",
    "        model.add(ClusteringLayer(n_clusters=3))\n",
    "    ```\n",
    "    # Arguments\n",
    "        n_clusters: number of clusters.\n",
    "        weights: list of Numpy array with shape `(n_clusters, n_features)` witch represents the initial cluster centers.\n",
    "        alpha: degrees of freedom parameter in Student's t-distribution. Default to 1.0.\n",
    "    # Input shape\n",
    "        2D tensor with shape: `(n_samples, n_features)`.\n",
    "    # Output shape\n",
    "        2D tensor with shape: `(n_samples, n_clusters)`.\n",
    "    \"\"\"\n",
    "\n",
    "    def __init__(self, n_clusters, weights=None, alpha=1.0, **kwargs):\n",
    "        if 'input_shape' not in kwargs and 'input_dim' in kwargs:\n",
    "            kwargs['input_shape'] = (kwargs.pop('input_dim'),)\n",
    "        super(ClusteringLayer, self).__init__(**kwargs)\n",
    "        self.n_clusters = n_clusters\n",
    "        self.alpha = alpha\n",
    "        self.initial_weights = weights\n",
    "        self.input_spec = InputSpec(ndim=2)\n",
    "\n",
    "    def build(self, input_shape):\n",
    "        assert len(input_shape) == 2\n",
    "        input_dim = input_shape[1]\n",
    "        self.input_spec = InputSpec(dtype=K.floatx(), shape=(None, input_dim))\n",
    "        self.clusters = self.add_weight(shape=(self.n_clusters, input_dim), initializer='glorot_uniform', name='clusters')\n",
    "        if self.initial_weights is not None:\n",
    "            self.set_weights(self.initial_weights)\n",
    "            del self.initial_weights\n",
    "        self.built = True\n",
    "\n",
    "    def call(self, inputs, **kwargs):\n",
    "        \"\"\" student t-distribution, as same as used in t-SNE algorithm.\n",
    "         Measure the similarity between embedded point z_i and centroid µ_j.\n",
    "                 q_ij = 1/(1+dist(x_i, µ_j)^2), then normalize it.\n",
    "                 q_ij can be interpreted as the probability of assigning sample i to cluster j.\n",
    "                 (i.e., a soft assignment)\n",
    "        Arguments:\n",
    "            inputs: the variable containing data, shape=(n_samples, n_features)\n",
    "        Return:\n",
    "            q: student's t-distribution, or soft labels for each sample. shape=(n_samples, n_clusters)\n",
    "        \"\"\"\n",
    "        q = 1.0 / (1.0 + (K.sum(K.square(K.expand_dims(inputs, axis=1) - self.clusters), axis=2) / self.alpha))\n",
    "        q **= (self.alpha + 1.0) / 2.0\n",
    "        q = K.transpose(K.transpose(q) / K.sum(q, axis=1)) # Make sure each sample's 10 values add up to 1.\n",
    "        return q\n",
    "\n",
    "    def compute_output_shape(self, input_shape):\n",
    "        assert input_shape and len(input_shape) == 2\n",
    "        return input_shape[0], self.n_clusters\n",
    "\n",
    "    def get_config(self):\n",
    "        config = {'n_clusters': self.n_clusters}\n",
    "        base_config = super(ClusteringLayer, self).get_config()\n",
    "        return dict(list(base_config.items()) + list(config.items()))"
   ]
  },
  {
   "cell_type": "code",
   "execution_count": 76,
   "metadata": {},
   "outputs": [],
   "source": [
    "from keras.engine.topology import InputSpec\n",
    "\n",
    "clustering_layer = ClusteringLayer(n_clusters, name='clustering')(encoder.output)\n",
    "model = Model(inputs=encoder.input, outputs=[clustering_layer, autoencoder.output])"
   ]
  },
  {
   "cell_type": "code",
   "execution_count": 77,
   "metadata": {},
   "outputs": [],
   "source": [
    "from keras.utils import plot_model\n",
    "plot_model(model, to_file='model.png', show_shapes=True)"
   ]
  },
  {
   "cell_type": "markdown",
   "metadata": {},
   "source": [
    "## Inizialize cluster centers using k-means"
   ]
  },
  {
   "cell_type": "code",
   "execution_count": 78,
   "metadata": {},
   "outputs": [],
   "source": [
    "from sklearn.cluster import KMeans\n",
    "import metrics as metrics\n",
    "\n",
    "kmeans = KMeans(n_clusters=n_clusters, n_init=20)\n",
    "y_pred = kmeans.fit_predict(encoder.predict(x_train))\n",
    "y_pred_last = np.copy(y_pred)\n",
    "model.get_layer(name='clustering').set_weights([kmeans.cluster_centers_])"
   ]
  },
  {
   "cell_type": "code",
   "execution_count": 79,
   "metadata": {},
   "outputs": [
    {
     "name": "stdout",
     "output_type": "stream",
     "text": [
      "Metrics before training.\n",
      "acc= 0.44755244755244755 nmi= 0.09622064971404681 ari= 0.022511913145457006\n"
     ]
    },
    {
     "name": "stderr",
     "output_type": "stream",
     "text": [
      "/home/phil/anaconda3/envs/tesi/lib/python3.8/site-packages/sklearn/utils/linear_assignment_.py:124: FutureWarning: The linear_assignment function is deprecated in 0.21 and will be removed from 0.23. Use scipy.optimize.linear_sum_assignment instead.\n",
      "  warnings.warn(\n"
     ]
    }
   ],
   "source": [
    "print('Metrics before training.')\n",
    "print('acc=', metrics.acc(y_train, y_pred), 'nmi=', metrics.nmi(y_train, y_pred), 'ari=', metrics.ari(y_train, y_pred))"
   ]
  },
  {
   "cell_type": "code",
   "execution_count": 89,
   "metadata": {},
   "outputs": [
    {
     "data": {
      "text/plain": [
       "<matplotlib.collections.PathCollection at 0x7f60fd16d580>"
      ]
     },
     "execution_count": 89,
     "metadata": {},
     "output_type": "execute_result"
    },
    {
     "data": {
      "image/png": "[encoded data removed]",
      "text/plain": [
       "<Figure size 720x720 with 1 Axes>"
      ]
     },
     "metadata": {
      "needs_background": "light"
     },
     "output_type": "display_data"
    }
   ],
   "source": [
    "features = model.predict(x_train)[0]\n",
    "\n",
    "plt.figure(figsize=(10,10))\n",
    "plt.scatter(features[:,0], features[:,1], c=y_pred, s=50, cmap='brg')\n",
    "\n",
    "#centers = kmeans.cluster_centers_\n",
    "#plt.scatter(centers[:,0], centers[:,1], c='black', s=200, alpha=0.5)"
   ]
  },
  {
   "cell_type": "markdown",
   "metadata": {},
   "source": [
    "# Training DCEC"
   ]
  },
  {
   "cell_type": "code",
   "execution_count": 96,
   "metadata": {},
   "outputs": [],
   "source": [
    "# Student's distribution (see paper)\n",
    "def target_distribution(q):\n",
    "    weight = q ** 2 / q.sum(0)\n",
    "    return (weight.T / weight.sum(1)).T"
   ]
  },
  {
   "cell_type": "code",
   "execution_count": 101,
   "metadata": {},
   "outputs": [],
   "source": [
    "# hyperparams\n",
    "batch_size= 64\n",
    "maxiter = 100000\n",
    "update_interval = 300\n",
    "save_interval = 1000\n",
    "tol = 0.001 # tolerance as threshold to early stopping\n",
    "\n",
    "# init \n",
    "index = 0\n",
    "\n",
    "# plots\n",
    "history_train_losses = [[],[],[]]\n",
    "history_train_acc=[]\n",
    "iterazioni=[]"
   ]
  },
  {
   "cell_type": "markdown",
   "metadata": {},
   "source": [
    "## Compile"
   ]
  },
  {
   "cell_type": "code",
   "execution_count": 102,
   "metadata": {},
   "outputs": [],
   "source": [
    "# compile model\n",
    "gamma = 0.1\n",
    "optimizer = 'adam'\n",
    "\n",
    "model.compile(loss=['kld', 'mse'], loss_weights=[gamma, 1], optimizer=optimizer)"
   ]
  },
  {
   "cell_type": "markdown",
   "metadata": {},
   "source": [
    "## Train"
   ]
  },
  {
   "cell_type": "code",
   "execution_count": null,
   "metadata": {},
   "outputs": [
    {
     "name": "stderr",
     "output_type": "stream",
     "text": [
      "/home/phil/anaconda3/envs/tesi/lib/python3.8/site-packages/sklearn/utils/linear_assignment_.py:124: FutureWarning: The linear_assignment function is deprecated in 0.21 and will be removed from 0.23. Use scipy.optimize.linear_sum_assignment instead.\n",
      "  warnings.warn(\n"
     ]
    },
    {
     "name": "stdout",
     "output_type": "stream",
     "text": [
      "Iter 0 : Acc tr 0.45804 , nmi tr 0.11503 , ari tr 0.0222 ; loss tr= [0.01116 0.05348 0.00581]\n",
      "saving model to: ./results/dcec_model_0.h5\n"
     ]
    }
   ],
   "source": [
    "import metrics\n",
    "\n",
    "for ite in range(int(maxiter)):\n",
    "    if ite % update_interval == 0:\n",
    "        q, _ = model.predict(x_train, verbose=0)\n",
    "        p = target_distribution(q) # update the auxiliary target distribution p\n",
    "\n",
    "        # evaluate the clustering performance\n",
    "        y_train_pred = q.argmax(1)\n",
    "        if y_train is not None:\n",
    "            train_acc = np.round(metrics.acc(y_train, y_train_pred), 5)\n",
    "            train_nmi = np.round(metrics.nmi(y_train, y_train_pred), 5)\n",
    "            train_ari = np.round(metrics.ari(y_train, y_train_pred), 5)\n",
    "            train_loss = np.round(train_loss, 5)\n",
    "            print('Iter', ite, ': Acc tr', train_acc, ', nmi tr', train_nmi, ', ari tr', train_ari, '; loss tr=', train_loss)\n",
    "       \n",
    "        # check stop criterion\n",
    "        delta_label = np.sum(y_train_pred != y_pred_last).astype(np.float32) / y_train_pred.shape[0]\n",
    "        y_pred_last = np.copy(y_train_pred)\n",
    "        if ite > 0 and delta_label < tol:\n",
    "            print('delta_label ', delta_label, '< tol ', tol)\n",
    "            print('Reached tolerance threshold. Stopping training.')\n",
    "            break\n",
    "    \n",
    "    # train on batch\n",
    "    if (index + 1) * batch_size > x_train.shape[0]:\n",
    "        train_loss = model.train_on_batch(x=x_train[index * batch_size::],\n",
    "                                     y=[p[index * batch_size::], x_train[index * batch_size::]])\n",
    "        index = 0\n",
    "    else:\n",
    "        train_loss = model.train_on_batch(x=x_train[index * batch_size:(index + 1) * batch_size],\n",
    "                                     y=[p[index * batch_size:(index + 1) * batch_size],\n",
    "                                        x_train[index * batch_size:(index + 1) * batch_size]])\n",
    "        index += 1\n",
    "    \n",
    "    history_train_losses[0].append(train_loss[0])\n",
    "    history_train_losses[1].append(train_loss[1])\n",
    "    history_train_losses[2].append(train_loss[2])\n",
    "    history_acc.append(train_acc)\n",
    "\n",
    "    iterazioni.append(ite)\n",
    "    \n",
    "    if ite % save_interval == 0:\n",
    "        # save DCEC model checkpoints\n",
    "        print('saving model to:', save_dir + '/dcec_model_' + str(ite) + '.h5')\n",
    "        model.save_weights(save_dir + '/dcec_model_' + str(ite) + '.h5')\n",
    "        \n",
    "    ite += 1\n",
    "\n",
    "# save the trained model\n",
    "print('saving model to:', save_dir + '/dcec_model_final.h5')\n",
    "model.save_weights(save_dir + '/dcec_model_final.h5')"
   ]
  },
  {
   "cell_type": "markdown",
   "metadata": {},
   "source": [
    "## Validation"
   ]
  },
  {
   "cell_type": "code",
   "execution_count": null,
   "metadata": {},
   "outputs": [],
   "source": []
  },
  {
   "cell_type": "markdown",
   "metadata": {},
   "source": [
    "## Plot DCEC metrics"
   ]
  },
  {
   "cell_type": "code",
   "execution_count": 100,
   "metadata": {},
   "outputs": [
    {
     "ename": "ValueError",
     "evalue": "x and y must have same first dimension, but have shapes (400,) and (0,)",
     "output_type": "error",
     "traceback": [
      "\u001b[0;31m---------------------------------------------------------------------------\u001b[0m",
      "\u001b[0;31mValueError\u001b[0m                                Traceback (most recent call last)",
      "\u001b[0;32m<ipython-input-100-db296a6814e1>\u001b[0m in \u001b[0;36m<module>\u001b[0;34m\u001b[0m\n\u001b[1;32m     37\u001b[0m \u001b[0my1\u001b[0m\u001b[0;34m=\u001b[0m\u001b[0mhistory_train_acc\u001b[0m\u001b[0;34m\u001b[0m\u001b[0;34m\u001b[0m\u001b[0m\n\u001b[1;32m     38\u001b[0m \u001b[0;31m#y2=history_val_acc\u001b[0m\u001b[0;34m\u001b[0m\u001b[0;34m\u001b[0m\u001b[0;34m\u001b[0m\u001b[0m\n\u001b[0;32m---> 39\u001b[0;31m \u001b[0mplt\u001b[0m\u001b[0;34m.\u001b[0m\u001b[0mplot\u001b[0m\u001b[0;34m(\u001b[0m\u001b[0mx1\u001b[0m\u001b[0;34m,\u001b[0m\u001b[0my1\u001b[0m\u001b[0;34m)\u001b[0m\u001b[0;34m\u001b[0m\u001b[0;34m\u001b[0m\u001b[0m\n\u001b[0m\u001b[1;32m     40\u001b[0m \u001b[0;31m#plt.plot(x1,y2)\u001b[0m\u001b[0;34m\u001b[0m\u001b[0;34m\u001b[0m\u001b[0;34m\u001b[0m\u001b[0m\n\u001b[1;32m     41\u001b[0m \u001b[0mplt\u001b[0m\u001b[0;34m.\u001b[0m\u001b[0mtitle\u001b[0m\u001b[0;34m(\u001b[0m\u001b[0;34m'Acc'\u001b[0m\u001b[0;34m)\u001b[0m\u001b[0;34m\u001b[0m\u001b[0;34m\u001b[0m\u001b[0m\n",
      "\u001b[0;32m~/anaconda3/envs/tesi/lib/python3.8/site-packages/matplotlib/pyplot.py\u001b[0m in \u001b[0;36mplot\u001b[0;34m(scalex, scaley, data, *args, **kwargs)\u001b[0m\n\u001b[1;32m   2759\u001b[0m \u001b[0;34m@\u001b[0m\u001b[0mdocstring\u001b[0m\u001b[0;34m.\u001b[0m\u001b[0mcopy\u001b[0m\u001b[0;34m(\u001b[0m\u001b[0mAxes\u001b[0m\u001b[0;34m.\u001b[0m\u001b[0mplot\u001b[0m\u001b[0;34m)\u001b[0m\u001b[0;34m\u001b[0m\u001b[0;34m\u001b[0m\u001b[0m\n\u001b[1;32m   2760\u001b[0m \u001b[0;32mdef\u001b[0m \u001b[0mplot\u001b[0m\u001b[0;34m(\u001b[0m\u001b[0;34m*\u001b[0m\u001b[0margs\u001b[0m\u001b[0;34m,\u001b[0m \u001b[0mscalex\u001b[0m\u001b[0;34m=\u001b[0m\u001b[0;32mTrue\u001b[0m\u001b[0;34m,\u001b[0m \u001b[0mscaley\u001b[0m\u001b[0;34m=\u001b[0m\u001b[0;32mTrue\u001b[0m\u001b[0;34m,\u001b[0m \u001b[0mdata\u001b[0m\u001b[0;34m=\u001b[0m\u001b[0;32mNone\u001b[0m\u001b[0;34m,\u001b[0m \u001b[0;34m**\u001b[0m\u001b[0mkwargs\u001b[0m\u001b[0;34m)\u001b[0m\u001b[0;34m:\u001b[0m\u001b[0;34m\u001b[0m\u001b[0;34m\u001b[0m\u001b[0m\n\u001b[0;32m-> 2761\u001b[0;31m     return gca().plot(\n\u001b[0m\u001b[1;32m   2762\u001b[0m         *args, scalex=scalex, scaley=scaley, **({\"data\": data} if data\n\u001b[1;32m   2763\u001b[0m         is not None else {}), **kwargs)\n",
      "\u001b[0;32m~/anaconda3/envs/tesi/lib/python3.8/site-packages/matplotlib/axes/_axes.py\u001b[0m in \u001b[0;36mplot\u001b[0;34m(self, scalex, scaley, data, *args, **kwargs)\u001b[0m\n\u001b[1;32m   1644\u001b[0m         \"\"\"\n\u001b[1;32m   1645\u001b[0m         \u001b[0mkwargs\u001b[0m \u001b[0;34m=\u001b[0m \u001b[0mcbook\u001b[0m\u001b[0;34m.\u001b[0m\u001b[0mnormalize_kwargs\u001b[0m\u001b[0;34m(\u001b[0m\u001b[0mkwargs\u001b[0m\u001b[0;34m,\u001b[0m \u001b[0mmlines\u001b[0m\u001b[0;34m.\u001b[0m\u001b[0mLine2D\u001b[0m\u001b[0;34m)\u001b[0m\u001b[0;34m\u001b[0m\u001b[0;34m\u001b[0m\u001b[0m\n\u001b[0;32m-> 1646\u001b[0;31m         \u001b[0mlines\u001b[0m \u001b[0;34m=\u001b[0m \u001b[0;34m[\u001b[0m\u001b[0;34m*\u001b[0m\u001b[0mself\u001b[0m\u001b[0;34m.\u001b[0m\u001b[0m_get_lines\u001b[0m\u001b[0;34m(\u001b[0m\u001b[0;34m*\u001b[0m\u001b[0margs\u001b[0m\u001b[0;34m,\u001b[0m \u001b[0mdata\u001b[0m\u001b[0;34m=\u001b[0m\u001b[0mdata\u001b[0m\u001b[0;34m,\u001b[0m \u001b[0;34m**\u001b[0m\u001b[0mkwargs\u001b[0m\u001b[0;34m)\u001b[0m\u001b[0;34m]\u001b[0m\u001b[0;34m\u001b[0m\u001b[0;34m\u001b[0m\u001b[0m\n\u001b[0m\u001b[1;32m   1647\u001b[0m         \u001b[0;32mfor\u001b[0m \u001b[0mline\u001b[0m \u001b[0;32min\u001b[0m \u001b[0mlines\u001b[0m\u001b[0;34m:\u001b[0m\u001b[0;34m\u001b[0m\u001b[0;34m\u001b[0m\u001b[0m\n\u001b[1;32m   1648\u001b[0m             \u001b[0mself\u001b[0m\u001b[0;34m.\u001b[0m\u001b[0madd_line\u001b[0m\u001b[0;34m(\u001b[0m\u001b[0mline\u001b[0m\u001b[0;34m)\u001b[0m\u001b[0;34m\u001b[0m\u001b[0;34m\u001b[0m\u001b[0m\n",
      "\u001b[0;32m~/anaconda3/envs/tesi/lib/python3.8/site-packages/matplotlib/axes/_base.py\u001b[0m in \u001b[0;36m__call__\u001b[0;34m(self, *args, **kwargs)\u001b[0m\n\u001b[1;32m    214\u001b[0m                 \u001b[0mthis\u001b[0m \u001b[0;34m+=\u001b[0m \u001b[0margs\u001b[0m\u001b[0;34m[\u001b[0m\u001b[0;36m0\u001b[0m\u001b[0;34m]\u001b[0m\u001b[0;34m,\u001b[0m\u001b[0;34m\u001b[0m\u001b[0;34m\u001b[0m\u001b[0m\n\u001b[1;32m    215\u001b[0m                 \u001b[0margs\u001b[0m \u001b[0;34m=\u001b[0m \u001b[0margs\u001b[0m\u001b[0;34m[\u001b[0m\u001b[0;36m1\u001b[0m\u001b[0;34m:\u001b[0m\u001b[0;34m]\u001b[0m\u001b[0;34m\u001b[0m\u001b[0;34m\u001b[0m\u001b[0m\n\u001b[0;32m--> 216\u001b[0;31m             \u001b[0;32myield\u001b[0m \u001b[0;32mfrom\u001b[0m \u001b[0mself\u001b[0m\u001b[0;34m.\u001b[0m\u001b[0m_plot_args\u001b[0m\u001b[0;34m(\u001b[0m\u001b[0mthis\u001b[0m\u001b[0;34m,\u001b[0m \u001b[0mkwargs\u001b[0m\u001b[0;34m)\u001b[0m\u001b[0;34m\u001b[0m\u001b[0;34m\u001b[0m\u001b[0m\n\u001b[0m\u001b[1;32m    217\u001b[0m \u001b[0;34m\u001b[0m\u001b[0m\n\u001b[1;32m    218\u001b[0m     \u001b[0;32mdef\u001b[0m \u001b[0mget_next_color\u001b[0m\u001b[0;34m(\u001b[0m\u001b[0mself\u001b[0m\u001b[0;34m)\u001b[0m\u001b[0;34m:\u001b[0m\u001b[0;34m\u001b[0m\u001b[0;34m\u001b[0m\u001b[0m\n",
      "\u001b[0;32m~/anaconda3/envs/tesi/lib/python3.8/site-packages/matplotlib/axes/_base.py\u001b[0m in \u001b[0;36m_plot_args\u001b[0;34m(self, tup, kwargs)\u001b[0m\n\u001b[1;32m    340\u001b[0m \u001b[0;34m\u001b[0m\u001b[0m\n\u001b[1;32m    341\u001b[0m         \u001b[0;32mif\u001b[0m \u001b[0mx\u001b[0m\u001b[0;34m.\u001b[0m\u001b[0mshape\u001b[0m\u001b[0;34m[\u001b[0m\u001b[0;36m0\u001b[0m\u001b[0;34m]\u001b[0m \u001b[0;34m!=\u001b[0m \u001b[0my\u001b[0m\u001b[0;34m.\u001b[0m\u001b[0mshape\u001b[0m\u001b[0;34m[\u001b[0m\u001b[0;36m0\u001b[0m\u001b[0;34m]\u001b[0m\u001b[0;34m:\u001b[0m\u001b[0;34m\u001b[0m\u001b[0;34m\u001b[0m\u001b[0m\n\u001b[0;32m--> 342\u001b[0;31m             raise ValueError(f\"x and y must have same first dimension, but \"\n\u001b[0m\u001b[1;32m    343\u001b[0m                              f\"have shapes {x.shape} and {y.shape}\")\n\u001b[1;32m    344\u001b[0m         \u001b[0;32mif\u001b[0m \u001b[0mx\u001b[0m\u001b[0;34m.\u001b[0m\u001b[0mndim\u001b[0m \u001b[0;34m>\u001b[0m \u001b[0;36m2\u001b[0m \u001b[0;32mor\u001b[0m \u001b[0my\u001b[0m\u001b[0;34m.\u001b[0m\u001b[0mndim\u001b[0m \u001b[0;34m>\u001b[0m \u001b[0;36m2\u001b[0m\u001b[0;34m:\u001b[0m\u001b[0;34m\u001b[0m\u001b[0;34m\u001b[0m\u001b[0m\n",
      "\u001b[0;31mValueError\u001b[0m: x and y must have same first dimension, but have shapes (400,) and (0,)"
     ]
    },
    {
     "data": {
      "image/png": "[encoded data removed]",
      "text/plain": [
       "<Figure size 1800x360 with 4 Axes>"
      ]
     },
     "metadata": {
      "needs_background": "light"
     },
     "output_type": "display_data"
    }
   ],
   "source": [
    "plt.figure(figsize=(25,5))\n",
    "plt.subplot(1,4,1)\n",
    "x1=iterazione\n",
    "y1=history_train_losses[0]\n",
    "#y2=history_val_losses[0]\n",
    "plt.plot(x1,y1)\n",
    "#plt.plot(x1,y2)\n",
    "plt.title('L')\n",
    "plt.ylabel('Loss')\n",
    "plt.xlabel('Epoch')\n",
    "plt.legend(['Train', 'Validation'])\n",
    "\n",
    "plt.subplot(1,4,2)\n",
    "x1=iterazione\n",
    "y1=history_train_losses[1]\n",
    "#y2=history_val_losses[1]\n",
    "plt.plot(x1,y1)\n",
    "#plt.plot(x1,y2)\n",
    "plt.title('Lr: reconstruction loss')\n",
    "plt.ylabel('Loss')\n",
    "plt.xlabel('Epoch')\n",
    "plt.legend(['Train', 'Validation'])\n",
    "\n",
    "plt.subplot(1,4,3)\n",
    "x1=iterazione\n",
    "y1=history_train_losses[2]\n",
    "#y2=history_val_losses[2]\n",
    "plt.plot(x1,y1)\n",
    "#plt.plot(x1,y2)\n",
    "plt.title('Lc: clustering loss')\n",
    "plt.ylabel('Loss')\n",
    "plt.xlabel('Epoch')\n",
    "plt.legend(['Train', 'Validation'])\n",
    "\n",
    "plt.subplot(1,4,4)\n",
    "x1=iterazione\n",
    "y1=history_train_acc\n",
    "#y2=history_val_acc\n",
    "plt.plot(x1,y1)\n",
    "#plt.plot(x1,y2)\n",
    "plt.title('Acc')\n",
    "plt.ylabel('Accuracy')\n",
    "plt.xlabel('Epoch')\n",
    "plt.legend('Train')\n",
    "\n",
    "plt.show()"
   ]
  },
  {
   "cell_type": "markdown",
   "metadata": {},
   "source": [
    "# Final evaluation on test dataset"
   ]
  },
  {
   "cell_type": "code",
   "execution_count": null,
   "metadata": {},
   "outputs": [],
   "source": [
    "q, _ = model.predict(x_test, verbose=0)\n",
    "p = target_distribution(q) \n",
    "\n",
    "test_loss = model.fit(x=x_test, y=[p, x_test])\n",
    "print(' Acc', acc) "
   ]
  },
  {
   "cell_type": "markdown",
   "metadata": {},
   "source": [
    "## Show prediction after training DCEC"
   ]
  },
  {
   "cell_type": "markdown",
   "metadata": {},
   "source": [
    "### Prediction on test dataset"
   ]
  },
  {
   "cell_type": "code",
   "execution_count": null,
   "metadata": {},
   "outputs": [],
   "source": [
    "#image layer to display (change this to display different images and respective decoded ones)\n",
    "n = 8 \n",
    "\n",
    "#ORIGINAL IMAGES\n",
    "#pick one image per type of scan\n",
    "imgsCT = PickOneImage(PickListImagesPerType(directories[2],scans[0]),directories[2],n)\n",
    "imgsMRI = PickOneImage(PickListImagesPerType(directories[2],scans[1]),directories[2],n)\n",
    "imgsPET = PickOneImage(PickListImagesPerType(directories[2],scans[2]),directories[2],n)\n",
    "\n",
    "#DECODED IMAGES\n",
    "#costruisco la lista di immagini da decodificare\n",
    "listaCT=[]\n",
    "for f in PickListImagesPerType(directories[2],scans[0]): \n",
    "    listaCT.append(join(directories[2], f))\n",
    "\n",
    "listaMRI=[]\n",
    "for f in PickListImagesPerType(directories[2],scans[1]): \n",
    "    listaMRI.append(join(directories[2], f))\n",
    "    \n",
    "listaPET=[]\n",
    "for f in PickListImagesPerType(directories[2],scans[2]): \n",
    "    listaPET.append(join(directories[2], f))\n",
    "\n",
    "#decode images per type of scan\n",
    "decoded_imgsCT = model.predict(ReshapeCAE(WriteAndArrayImages(listaCT)))[1]\n",
    "decoded_imgsMRI = model.predict(ReshapeCAE(WriteAndArrayImages(listaMRI)))[1]\n",
    "decoded_imgsPET = model.predict(ReshapeCAE(WriteAndArrayImages(listaPET)))[1]\n",
    "\n",
    "#select one decoded image and make in plottable\n",
    "decoded_imgCT = decoded_imgsCT[n].reshape(128,128)\n",
    "decoded_imgMRI = decoded_imgsMRI[n].reshape(128,128)\n",
    "decoded_imgPET = decoded_imgsPET[n].reshape(128,128)\n",
    "\n",
    "\n",
    "\n",
    "#plot images\n",
    "fig = plt.figure(figsize=(13,10))\n",
    "\n",
    "ax = plt.subplot(2,3,1)\n",
    "plt.imshow(imgsCT)\n",
    "plt.gray()\n",
    "ax.get_xaxis().set_visible(False)\n",
    "ax.get_yaxis().set_visible(False)\n",
    "\n",
    "ax = plt.subplot(2,3,2)\n",
    "plt.imshow(imgsMRI)\n",
    "plt.gray()\n",
    "ax.get_xaxis().set_visible(False)\n",
    "ax.get_yaxis().set_visible(False)\n",
    "\n",
    "ax = plt.subplot(2,3,3)\n",
    "plt.imshow(imgsPET)\n",
    "plt.gray()\n",
    "ax.get_xaxis().set_visible(False)\n",
    "ax.get_yaxis().set_visible(False)\n",
    "\n",
    "ax = plt.subplot(2,3,4)\n",
    "plt.imshow(decoded_imgCT)\n",
    "plt.gray()\n",
    "ax.get_xaxis().set_visible(False)\n",
    "ax.get_yaxis().set_visible(False)\n",
    "\n",
    "ax = plt.subplot(2,3,5)\n",
    "plt.imshow(decoded_imgMRI)\n",
    "plt.gray()\n",
    "ax.get_xaxis().set_visible(False)\n",
    "ax.get_yaxis().set_visible(False)\n",
    "\n",
    "ax = plt.subplot(2,3,6)\n",
    "plt.imshow(decoded_imgPET)\n",
    "plt.gray()\n",
    "ax.get_xaxis().set_visible(False)\n",
    "ax.get_yaxis().set_visible(False)"
   ]
  },
  {
   "cell_type": "markdown",
   "metadata": {},
   "source": [
    "# Plotting clusters"
   ]
  },
  {
   "cell_type": "markdown",
   "metadata": {},
   "source": [
    "### Train"
   ]
  },
  {
   "cell_type": "code",
   "execution_count": null,
   "metadata": {},
   "outputs": [],
   "source": [
    "features = feature_model.predict(x_train)\n",
    "y_pred = km.fit_predict(features)\n",
    "plt.figure(figsize=(12,10))\n",
    "plt.scatter(features[:,0], features[:,1], c=y_pred, s=50, cmap='brg')\n",
    "centers = km.cluster_centers_\n",
    "plt.scatter(centers[:,0], centers[:,1], c='black', s=200, alpha=0.5)"
   ]
  },
  {
   "cell_type": "markdown",
   "metadata": {},
   "source": [
    "### Test"
   ]
  },
  {
   "cell_type": "code",
   "execution_count": null,
   "metadata": {},
   "outputs": [],
   "source": [
    "features = feature_model.predict(x_test)\n",
    "y_pred = km.fit_predict(features)\n",
    "plt.figure(figsize=(12,10))\n",
    "plt.scatter(features[:,0], features[:,1], c=y_pred, s=50, cmap='brg')\n",
    "centers = km.cluster_centers_\n",
    "plt.scatter(centers[:,0], centers[:,1], c='black', s=200, alpha=0.5)"
   ]
  },
  {
   "cell_type": "markdown",
   "metadata": {},
   "source": [
    "## Confusion matrix"
   ]
  },
  {
   "cell_type": "code",
   "execution_count": null,
   "metadata": {},
   "outputs": [],
   "source": [
    "import seaborn as sns\n",
    "import sklearn.metrics\n",
    "import matplotlib.pyplot as plt\n",
    "sns.set(font_scale=3)\n",
    "confusion_matrix = sklearn.metrics.confusion_matrix([int(i) for i in y_test], y_pred)\n",
    "\n",
    "plt.figure(figsize=(10, 8))\n",
    "sns.heatmap(confusion_matrix, annot=True, fmt=\"d\", annot_kws={\"size\": 20});\n",
    "plt.title(\"Confusion matrix\")\n",
    "plt.ylabel('True label')\n",
    "plt.xlabel('Clustering label')\n",
    "plt.show()"
   ]
  },
  {
   "cell_type": "code",
   "execution_count": null,
   "metadata": {},
   "outputs": [],
   "source": [
    "from sklearn.utils.linear_assignment_ import linear_assignment\n",
    "\n",
    "y_true = y.astype(np.int64)\n",
    "D = max(y_pred.max(), y_true.max()) + 1\n",
    "w = np.zeros((D, D), dtype=np.int64)\n",
    "# Confusion matrix.\n",
    "for i in range(y_pred.size):\n",
    "    w[y_pred[i], y_true[i]] += 1\n",
    "ind = linear_assignment(-w)\n",
    "\n",
    "sum([w[i, j] for i, j in ind]) * 1.0 / y_pred.size"
   ]
  },
  {
   "cell_type": "code",
   "execution_count": null,
   "metadata": {},
   "outputs": [],
   "source": [
    "ind"
   ]
  },
  {
   "cell_type": "code",
   "execution_count": null,
   "metadata": {},
   "outputs": [],
   "source": []
  }
 ],
 "metadata": {
  "kernelspec": {
   "display_name": "Python 3",
   "language": "python",
   "name": "python3"
  },
  "language_info": {
   "codemirror_mode": {
    "name": "ipython",
    "version": 3
   },
   "file_extension": ".py",
   "mimetype": "text/x-python",
   "name": "python",
   "nbconvert_exporter": "python",
   "pygments_lexer": "ipython3",
   "version": "3.8.2"
  }
 },
 "nbformat": 4,
 "nbformat_minor": 2
}
