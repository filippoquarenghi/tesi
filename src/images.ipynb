{
 "cells": [
  {
   "cell_type": "code",
   "execution_count": 28,
   "metadata": {},
   "outputs": [],
   "source": [
    "from build_and_save_features import load_dataset, read_images\n",
    "import config as cfg\n",
    "import os\n",
    "from skimage import io\n",
    "import numpy as np\n",
    "import cv2\n",
    "from matplotlib import pyplot as plt\n",
    "from pprint import pprint"
   ]
  },
  {
   "cell_type": "code",
   "execution_count": 29,
   "metadata": {},
   "outputs": [],
   "source": [
    "path = cfg.train_directory\n",
    "images = []\n",
    "images.extend([os.path.join(path, f) for f in os.listdir(path) if f.endswith('.png')])\n",
    "stats = []\n",
    "new_stats = []\n",
    "imgs=[]\n",
    "for i in images:\n",
    "    img = cv2.imread(i)\n",
    "    img = img/255.\n",
    "    img = (img - img.mean()) / img.std()\n",
    "    imgs.append((img, i))\n"
   ]
  },
  {
   "cell_type": "code",
   "execution_count": 26,
   "metadata": {},
   "outputs": [
    {
     "name": "stdout",
     "output_type": "stream",
     "text": [
      "/home/fquaren/unimib/tesi/data/raw/train/PET210.png\n",
      "/home/fquaren/unimib/tesi/data/raw/train/PET95.png\n",
      "/home/fquaren/unimib/tesi/data/raw/train/CT310.png\n",
      "/home/fquaren/unimib/tesi/data/raw/train/CT340.png\n",
      "/home/fquaren/unimib/tesi/data/raw/train/PET155.png\n",
      "/home/fquaren/unimib/tesi/data/raw/train/MRI409.png\n",
      "/home/fquaren/unimib/tesi/data/raw/train/PET190.png\n",
      "/home/fquaren/unimib/tesi/data/raw/train/CT196.png\n",
      "/home/fquaren/unimib/tesi/data/raw/train/MRI62.png\n",
      "/home/fquaren/unimib/tesi/data/raw/train/PET201.png\n"
     ]
    }
   ],
   "source": [
    "for i in range(10):\n",
    "    print(imgs[i][1])"
   ]
  },
  {
   "cell_type": "code",
   "execution_count": 27,
   "metadata": {},
   "outputs": [
    {
     "ename": "TypeError",
     "evalue": "unsupported operand type(s) for /: 'NoneType' and 'float'",
     "output_type": "error",
     "traceback": [
      "\u001b[0;31m---------------------------------------------------------------------------\u001b[0m",
      "\u001b[0;31mTypeError\u001b[0m                                 Traceback (most recent call last)",
      "\u001b[0;32m<ipython-input-27-b59cc3ec3bca>\u001b[0m in \u001b[0;36m<module>\u001b[0;34m\u001b[0m\n\u001b[1;32m      1\u001b[0m \u001b[0mimg\u001b[0m \u001b[0;34m=\u001b[0m \u001b[0mcv2\u001b[0m\u001b[0;34m.\u001b[0m\u001b[0mimread\u001b[0m\u001b[0;34m(\u001b[0m\u001b[0;34m'/home/fquaren/unimib/tesi/data/raw/train/MRI172.png'\u001b[0m\u001b[0;34m)\u001b[0m\u001b[0;34m\u001b[0m\u001b[0;34m\u001b[0m\u001b[0m\n\u001b[0;32m----> 2\u001b[0;31m \u001b[0mimg\u001b[0m \u001b[0;34m=\u001b[0m \u001b[0mimg\u001b[0m\u001b[0;34m/\u001b[0m\u001b[0;36m255.\u001b[0m\u001b[0;34m\u001b[0m\u001b[0;34m\u001b[0m\u001b[0m\n\u001b[0m\u001b[1;32m      3\u001b[0m \u001b[0;34m\u001b[0m\u001b[0m\n\u001b[1;32m      4\u001b[0m \u001b[0mplt\u001b[0m\u001b[0;34m.\u001b[0m\u001b[0mimshow\u001b[0m\u001b[0;34m(\u001b[0m\u001b[0mimg\u001b[0m\u001b[0;34m)\u001b[0m\u001b[0;34m\u001b[0m\u001b[0;34m\u001b[0m\u001b[0m\n",
      "\u001b[0;31mTypeError\u001b[0m: unsupported operand type(s) for /: 'NoneType' and 'float'"
     ]
    }
   ],
   "source": [
    "img = cv2.imread('/home/fquaren/unimib/tesi/data/raw/train/MRI172.png')\n",
    "img = img/255.\n",
    "\n",
    "plt.imshow(img)"
   ]
  },
  {
   "cell_type": "code",
   "execution_count": null,
   "metadata": {},
   "outputs": [],
   "source": [
    "path = os.path.join(cfg.MRI, '2')\n",
    "images = []\n",
    "images.extend([os.path.join(path, f) for f in os.listdir(path) if f.endswith('.png')])\n",
    "stats = []\n",
    "new_stats = []\n",
    "for i in images:\n",
    "    img = io.imread(i)\n",
    "    stats.append((img.max(), img.min(), img.mean(), img.std()))\n",
    "    img = img/255.\n",
    "    new_stats.append((img.max(), img.min(), img.mean(), img.std()))\n",
    "print('massimo medio', np.mean([f[0] for f in new_stats]), ', mean mean', np.mean([f[2] for f in new_stats]))"
   ]
  },
  {
   "cell_type": "code",
   "execution_count": null,
   "metadata": {},
   "outputs": [],
   "source": []
  }
 ],
 "metadata": {
  "kernelspec": {
   "display_name": "Python 3",
   "language": "python",
   "name": "python3"
  },
  "language_info": {
   "codemirror_mode": {
    "name": "ipython",
    "version": 3
   },
   "file_extension": ".py",
   "mimetype": "text/x-python",
   "name": "python",
   "nbconvert_exporter": "python",
   "pygments_lexer": "ipython3",
   "version": "3.8.5"
  }
 },
 "nbformat": 4,
 "nbformat_minor": 4
}
