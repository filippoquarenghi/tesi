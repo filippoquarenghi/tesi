{
 "cells": [
  {
   "cell_type": "code",
   "execution_count": 110,
   "metadata": {},
   "outputs": [],
   "source": [
    "import os, shutil\n",
    "from os import listdir\n",
    "from os.path import isfile, join\n",
    "import random"
   ]
  },
  {
   "cell_type": "code",
   "execution_count": 111,
   "metadata": {},
   "outputs": [],
   "source": [
    "# original data directories\n",
    "mypaths = ['../Data/CT', '../Data/MRI', '../Data/PET']\n",
    "\n",
    "# new data directories\n",
    "folders = ['data/train', 'data/validation', 'data/test']\n",
    "\n",
    "# create folders if not already there\n",
    "for folder in folders:\n",
    "    if os.path.isdir(folder) == False:\n",
    "        os.mkdir(folder)\n",
    "    else:\n",
    "        break"
   ]
  },
  {
   "cell_type": "code",
   "execution_count": 113,
   "metadata": {},
   "outputs": [
    {
     "name": "stdout",
     "output_type": "stream",
     "text": [
      "Number of training images:  851\n",
      "Number of validation images:  106\n",
      "Number of test images:  108\n"
     ]
    }
   ],
   "source": [
    "# create database\n",
    "database = [0,0,0] # train,val,test\n",
    "for path in mypaths:\n",
    "    \n",
    "    # gathering file names from original Data directory\n",
    "    filenames = [f for f in listdir(path) if isfile(join(path, f))]\n",
    "    filenames.sort()\n",
    "    random.seed(432)\n",
    "    random.shuffle(filenames)\n",
    "\n",
    "    # splitting 80 10 10\n",
    "    split_1 = int(0.8 * len(filenames))\n",
    "    split_2 = int(0.9 * len(filenames))\n",
    "    train_filenames = filenames[:split_1]\n",
    "    validation_filenames = filenames[split_1:split_2]\n",
    "    test_filenames = filenames[split_2:]\n",
    "\n",
    "    # copy files in data directory\n",
    "    for f in train_filenames:\n",
    "        shutil.copyfile(path+'/'+f, 'data/train/'+f)\n",
    "\n",
    "    for f in validation_filenames:\n",
    "        shutil.copyfile(path+'/'+f, 'data/validation/'+f)\n",
    "\n",
    "    for f in test_filenames:\n",
    "        shutil.copyfile(path+'/'+f, 'data/test/'+f)\n",
    "\n",
    "    # count number of images per directory\n",
    "    database[0] += len(train_filenames)\n",
    "    database[1] += len(validation_filenames)\n",
    "    database[2] += len(test_filenames)\n",
    "\n",
    "print('Number of training images: ', database[0])        \n",
    "print('Number of validation images: ', database[1])\n",
    "print('Number of test images: ', database[2])"
   ]
  },
  {
   "cell_type": "code",
   "execution_count": null,
   "metadata": {},
   "outputs": [],
   "source": []
  }
 ],
 "metadata": {
  "kernelspec": {
   "display_name": "Python 3",
   "language": "python",
   "name": "python3"
  },
  "language_info": {
   "codemirror_mode": {
    "name": "ipython",
    "version": 3
   },
   "file_extension": ".py",
   "mimetype": "text/x-python",
   "name": "python",
   "nbconvert_exporter": "python",
   "pygments_lexer": "ipython3",
   "version": "3.7.4"
  }
 },
 "nbformat": 4,
 "nbformat_minor": 2
}
