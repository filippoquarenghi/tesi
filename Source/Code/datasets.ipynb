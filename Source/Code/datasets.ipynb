{
 "cells": [
  {
   "cell_type": "code",
   "execution_count": 1,
   "metadata": {},
   "outputs": [],
   "source": [
    "import os, shutil\n",
    "from os import listdir\n",
    "from os.path import isfile, join\n",
    "from sklearn.model_selection import train_test_split"
   ]
  },
  {
   "cell_type": "code",
   "execution_count": 28,
   "metadata": {},
   "outputs": [
    {
     "name": "stdout",
     "output_type": "stream",
     "text": [
      "['../Data/CT/', '../Data/MRI/', '../Data/PET/']\n",
      "['CT190.png', 'CT245.png', 'CT321.png', 'CT36.png', 'CT113.png', 'CT213.png', 'CT80.png', 'CT259.png', 'CT109.png', 'CT30.png', 'CT277.png', 'CT96.png', 'CT208.png', 'CT62.png', 'CT306.png', 'CT339.png', 'CT108.png', 'CT237.png', 'CT241.png', 'CT260.png', 'CT234.png', 'CT11.png', 'CT73.png', 'CT139.png', 'CT209.png', 'CT310.png', 'CT118.png', 'CT269.png', 'CT249.png', 'CT127.png', 'CT81.png', 'CT71.png', 'CT15.png', 'CT123.png', 'CT120.png', 'CT16.png', 'CT290.png', 'CT182.png', 'CT43.png', 'CT59.png', 'CT196.png', 'CT166.png', 'CT111.png', 'CT344.png', 'CT298.png', 'CT156.png', 'CT317.png', 'CT207.png', 'CT275.png', 'CT336.png', 'CT35.png', 'CT164.png', 'CT184.png', 'CT61.png', 'CT211.png', 'CT185.png', 'CT55.png', 'CT322.png', 'CT315.png', 'CT328.png', 'CT244.png', 'CT82.png', 'CT206.png', 'CT319.png', 'CT142.png', 'CT232.png', 'CT26.png', 'CT19.png', 'CT95.png', 'CT153.png', 'CT219.png', 'MRI90.png', 'MRI268.png', 'MRI243.png', 'MRI31.png', 'MRI4.png', 'MRI236.png', 'MRI327.png', 'MRI280.png', 'MRI205.png', 'MRI200.png', 'MRI335.png', 'MRI69.png', 'MRI354.png', 'MRI380.png', 'MRI275.png', 'MRI106.png', 'MRI234.png', 'MRI179.png', 'MRI418.png', 'MRI347.png', 'MRI377.png', 'MRI108.png', 'MRI403.png', 'MRI186.png', 'MRI351.png', 'MRI73.png', 'MRI220.png', 'MRI227.png', 'MRI199.png', 'MRI189.png', 'MRI257.png', 'MRI408.png', 'MRI92.png', 'MRI165.png', 'MRI70.png', 'MRI423.png', 'MRI421.png', 'MRI235.png', 'MRI344.png', 'MRI178.png', 'MRI24.png', 'MRI330.png', 'MRI87.png', 'MRI286.png', 'MRI9.png', 'MRI303.png', 'MRI50.png', 'MRI209.png', 'MRI28.png', 'MRI271.png', 'MRI44.png', 'MRI161.png', 'MRI307.png', 'MRI422.png', 'MRI64.png', 'MRI302.png', 'MRI419.png', 'MRI248.png', 'MRI23.png', 'MRI130.png', 'MRI85.png', 'MRI414.png', 'MRI95.png', 'MRI173.png', 'MRI337.png', 'MRI103.png', 'MRI396.png', 'MRI116.png', 'MRI326.png', 'MRI289.png', 'MRI378.png', 'MRI37.png', 'MRI75.png', 'MRI93.png', 'MRI253.png', 'MRI230.png', 'MRI291.png', 'MRI191.png', 'MRI311.png', 'MRI309.png', 'MRI278.png', 'MRI76.png', 'MRI232.png', 'MRI426.png', 'MRI359.png', 'MRI100.png', 'PET38.png', 'PET74.png', 'PET129.png', 'PET51.png', 'PET65.png', 'PET106.png', 'PET214.png', 'PET35.png', 'PET215.png', 'PET141.png', 'PET212.png', 'PET133.png', 'PET256.png', 'PET246.png', 'PET198.png', 'PET260.png', 'PET264.png', 'PET179.png', 'PET26.png', 'PET192.png', 'PET243.png', 'PET87.png', 'PET163.png', 'PET131.png', 'PET36.png', 'PET193.png', 'PET94.png', 'PET112.png', 'PET171.png', 'PET241.png', 'PET105.png', 'PET199.png', 'PET187.png', 'PET100.png', 'PET37.png', 'PET202.png', 'PET97.png', 'PET33.png', 'PET217.png', 'PET186.png', 'PET284.png', 'PET203.png', 'PET150.png', 'PET5.png', 'PET237.png', 'PET55.png', 'PET148.png', 'PET16.png', 'PET278.png', 'PET83.png', 'PET143.png', 'PET267.png', 'PET255.png', 'PET89.png', 'PET282.png', 'PET53.png', 'PET239.png']\n"
     ]
    }
   ],
   "source": [
    "# original data directories\n",
    "CT = '../Data/CT/'\n",
    "MRI = '../Data/MRI/'\n",
    "PET = '../Data/PET/'\n",
    "\n",
    "myPaths = [CT, MRI, PET]\n",
    "myDict={CT:[], MRI:[], PET:[]}\n",
    "\n",
    "for path in myPaths:\n",
    "    myDict[path] = [f for f in listdir(path) if isfile(join(path, f))]\n",
    "    #print(len(myDict[path]))\n",
    "    #print(myDict[path])\n",
    "\n",
    "\n",
    "print(list(myDict.keys()))\n",
    "\n",
    "#split train test\n",
    "CT_train, CT_test = train_test_split(myDict[myPaths[0]], train_size=0.8)\n",
    "MRI_train, MRI_test = train_test_split(myDict[myPaths[1]], train_size=0.8)\n",
    "PET_train, PET_test = train_test_split(myDict[myPaths[2]], train_size=0.8)\n",
    "\n",
    "#split train validation\n",
    "#CT_train, CT_validation = train_test_split(CT_train, train_size=0.75)\n",
    "#MRI_train, MRI_validation = train_test_split(MRI_train, train_size=0.75)\n",
    "#PET_train, PET_validation = train_test_split(PET_train, train_size=0.75)\n",
    "\n",
    "#print(len(MRI_train))\n",
    "#print(len(MRI_validation))\n",
    "#print(len(MRI_test))\n",
    "\n",
    "\n",
    "# unisco\n",
    "train = CT_train + MRI_train + PET_train\n",
    "#validation = CT_validation + MRI_validation + PET_validation\n",
    "test_file_names = CT_test + MRI_test + PET_test\n",
    "#label_test = len(CT_test)*['CT']\n",
    "\n",
    "#print(label_test)\n",
    "#print(CT_train)\n",
    "#print(len(validation))\n",
    "print(test_file_names)"
   ]
  },
  {
   "cell_type": "code",
   "execution_count": 29,
   "metadata": {},
   "outputs": [
    {
     "name": "stdout",
     "output_type": "stream",
     "text": [
      "Creo la cartella per i dati qui: /Users/orobix/Documents/Thesis/Source/Code\n"
     ]
    }
   ],
   "source": [
    "# creo cartella data\n",
    "\n",
    "print('Creo la cartella per i dati qui:', os.getcwd())\n",
    "\n",
    "directories = ['data/train', \n",
    "               #'data/validation', \n",
    "               'data/test']\n",
    "\n",
    "for directory in directories:\n",
    "    if not os.path.exists(directory):\n",
    "        os.makedirs(directory)\n",
    "\n",
    "scans = ['CT', 'MRI', 'PET']\n",
    "\n",
    "for dest in directories:\n",
    "    for source, scan in zip(myPaths, scans):\n",
    "        files = eval(scan+'_test')\n",
    "        #print(files)\n",
    "        for f in files:\n",
    "            shutil.copy(source+f, dest)"
   ]
  },
  {
   "cell_type": "code",
   "execution_count": 30,
   "metadata": {},
   "outputs": [
    {
     "name": "stdout",
     "output_type": "stream",
     "text": [
      "Grandezza immagini: (180, 180)\n",
      "TEST DATABASE: (214, 180, 180, 1)\n"
     ]
    },
    {
     "data": {
      "image/png": "[encoded data removed]",
      "text/plain": [
       "<Figure size 432x288 with 1 Axes>"
      ]
     },
     "metadata": {
      "needs_background": "light"
     },
     "output_type": "display_data"
    }
   ],
   "source": [
    "#creo l'array per passarlo poi al file come database\n",
    "\n",
    "from skimage import io\n",
    "import numpy as np\n",
    "import matplotlib.pyplot as plt\n",
    "import cv2\n",
    "\n",
    "\n",
    "# lista per fare image reading\n",
    "location_test_dir ='data/test/'\n",
    "location_test_file_names = [location_test_dir + item for item in test_file_names]\n",
    "#print(location_test_file_names)\n",
    "\n",
    "#inizialize stack\n",
    "x = io.imread(location_test_file_names[0])\n",
    "x = cv2.resize(x, dsize=(180,180))\n",
    "plt.imshow(x, cmap=plt.cm.gray)\n",
    "\n",
    "#grandezza immagini\n",
    "print('Grandezza immagini:', x.shape)\n",
    "\n",
    "y=[]\n",
    "#stack images\n",
    "for img in location_test_file_names[1:]: #parti dalla seconda immagine\n",
    "    y.append(str(img)[10:12])\n",
    "    img = io.imread(img)\n",
    "    img = cv2.resize(img, dsize=(180,180))\n",
    "    x = np.dstack((x,img))\n",
    "\n",
    "#reshape and normalise\n",
    "#x = np.rollaxis(x,-1) #(182,218,N)->(N,182,218)\n",
    "x = x.reshape(-1, 180, 180, 1).astype('float32')\n",
    "x = x/255. \n",
    "print('TEST DATABASE:', x.shape)\n",
    "\n"
   ]
  },
  {
   "cell_type": "code",
   "execution_count": 31,
   "metadata": {},
   "outputs": [
    {
     "name": "stdout",
     "output_type": "stream",
     "text": [
      "_________________________________________________________________\n",
      "Layer (type)                 Output Shape              Param #   \n",
      "=================================================================\n",
      "conv1 (Conv2D)               (None, 90, 90, 32)        832       \n",
      "_________________________________________________________________\n",
      "conv2 (Conv2D)               (None, 45, 45, 64)        51264     \n",
      "_________________________________________________________________\n",
      "conv3 (Conv2D)               (None, 22, 22, 128)       73856     \n",
      "_________________________________________________________________\n",
      "flatten_6 (Flatten)          (None, 61952)             0         \n",
      "_________________________________________________________________\n",
      "embedding (Dense)            (None, 10)                619530    \n",
      "_________________________________________________________________\n",
      "dense_6 (Dense)              (None, 61952)             681472    \n",
      "_________________________________________________________________\n",
      "reshape_6 (Reshape)          (None, 22, 22, 128)       0         \n",
      "_________________________________________________________________\n",
      "deconv3 (Conv2DTranspose)    (None, 45, 45, 64)        73792     \n",
      "_________________________________________________________________\n",
      "deconv2 (Conv2DTranspose)    (None, 90, 90, 32)        51232     \n",
      "_________________________________________________________________\n",
      "deconv1 (Conv2DTranspose)    (None, 180, 180, 1)       801       \n",
      "=================================================================\n",
      "Total params: 1,552,779\n",
      "Trainable params: 1,552,779\n",
      "Non-trainable params: 0\n",
      "_________________________________________________________________\n"
     ]
    }
   ],
   "source": [
    "#model CAE\n",
    "\n",
    "from keras.layers import Conv2D, Conv2DTranspose, Dense, Flatten, Reshape\n",
    "from keras.models import Sequential, Model\n",
    "from keras.utils.vis_utils import plot_model\n",
    "\n",
    "input_shape=(180,180,1) \n",
    "filters=[32, 64, 128, 10]\n",
    "\n",
    "model = Sequential()\n",
    "\n",
    "if input_shape[0] % 8 == 0:\n",
    "    pad3 = 'same'\n",
    "else:\n",
    "    pad3 = 'valid'\n",
    "\n",
    "model.add(Conv2D(filters[0], 5, strides=2, padding='same', activation='relu', name='conv1', input_shape=input_shape))\n",
    "\n",
    "model.add(Conv2D(filters[1], 5, strides=2, padding='same', activation='relu', name='conv2'))\n",
    "\n",
    "model.add(Conv2D(filters[2], 3, strides=2, padding=pad3, activation='relu', name='conv3'))\n",
    "\n",
    "model.add(Flatten())\n",
    "model.add(Dense(units=filters[3], name='embedding'))\n",
    "model.add(Dense(units=filters[2]*int(input_shape[0]/8)*int(input_shape[0]/8), activation='relu'))\n",
    "\n",
    "model.add(Reshape((int(input_shape[0]/8), int(input_shape[0]/8), filters[2])))\n",
    "model.add(Conv2DTranspose(filters[1], 3, strides=2, padding=pad3, activation='relu', name='deconv3'))\n",
    "\n",
    "model.add(Conv2DTranspose(filters[0], 5, strides=2, padding='same', activation='relu', name='deconv2'))\n",
    "\n",
    "model.add(Conv2DTranspose(input_shape[2], 5, strides=2, padding='same', name='deconv1'))\n",
    "model.summary()\n",
    " "
   ]
  },
  {
   "cell_type": "code",
   "execution_count": 32,
   "metadata": {},
   "outputs": [],
   "source": [
    "# compile the model and callbacks\n",
    "optimizer = 'adam'\n",
    "model.compile(optimizer=optimizer, loss='mse')"
   ]
  },
  {
   "cell_type": "code",
   "execution_count": 33,
   "metadata": {},
   "outputs": [
    {
     "name": "stdout",
     "output_type": "stream",
     "text": [
      "(214, 180, 180, 1)\n",
      "Epoch 1/20\n",
      "214/214 [==============================] - 9s 43ms/step - loss: 0.0803\n",
      "Epoch 2/20\n",
      "214/214 [==============================] - 7s 33ms/step - loss: 0.0527\n",
      "Epoch 3/20\n",
      "214/214 [==============================] - 7s 34ms/step - loss: 0.0432\n",
      "Epoch 4/20\n",
      "214/214 [==============================] - 7s 32ms/step - loss: 0.0352\n",
      "Epoch 5/20\n",
      "214/214 [==============================] - 6s 30ms/step - loss: 0.0303\n",
      "Epoch 6/20\n",
      "214/214 [==============================] - 6s 30ms/step - loss: 0.0263\n",
      "Epoch 7/20\n",
      "214/214 [==============================] - 6s 29ms/step - loss: 0.0246\n",
      "Epoch 8/20\n",
      "214/214 [==============================] - 6s 30ms/step - loss: 0.0235\n",
      "Epoch 9/20\n",
      "214/214 [==============================] - 7s 33ms/step - loss: 0.0230\n",
      "Epoch 10/20\n",
      "214/214 [==============================] - 6s 29ms/step - loss: 0.0225\n",
      "Epoch 11/20\n",
      "214/214 [==============================] - 6s 29ms/step - loss: 0.0221\n",
      "Epoch 12/20\n",
      "214/214 [==============================] - 6s 29ms/step - loss: 0.0219\n",
      "Epoch 13/20\n",
      "214/214 [==============================] - 6s 29ms/step - loss: 0.0215\n",
      "Epoch 14/20\n",
      "214/214 [==============================] - 6s 29ms/step - loss: 0.0212\n",
      "Epoch 15/20\n",
      "214/214 [==============================] - 6s 29ms/step - loss: 0.0210\n",
      "Epoch 16/20\n",
      "214/214 [==============================] - 6s 29ms/step - loss: 0.0208\n",
      "Epoch 17/20\n",
      "214/214 [==============================] - 6s 29ms/step - loss: 0.0207\n",
      "Epoch 18/20\n",
      "214/214 [==============================] - 7s 31ms/step - loss: 0.0206\n",
      "Epoch 19/20\n",
      "214/214 [==============================] - 7s 31ms/step - loss: 0.0206\n",
      "Epoch 20/20\n",
      "214/214 [==============================] - 6s 29ms/step - loss: 0.0206\n",
      "Training time:  132.3729600906372\n"
     ]
    }
   ],
   "source": [
    "print(x.shape)\n",
    "\n",
    "from time import time\n",
    "t0 = time()\n",
    "model.fit(x, x, batch_size=16, epochs=20)\n",
    "print('Training time: ', time() - t0)"
   ]
  },
  {
   "cell_type": "code",
   "execution_count": 20,
   "metadata": {},
   "outputs": [
    {
     "name": "stdout",
     "output_type": "stream",
     "text": [
      "feature shape= (214, 10)\n"
     ]
    }
   ],
   "source": [
    "feature_model = Model(inputs=model.input, outputs=model.get_layer(name='embedding').output)\n",
    "features = feature_model.predict(x)\n",
    "print('feature shape=', features.shape)"
   ]
  },
  {
   "cell_type": "code",
   "execution_count": 22,
   "metadata": {},
   "outputs": [],
   "source": [
    "# use features for clustering\n",
    "from sklearn.cluster import KMeans\n",
    "km = KMeans(n_clusters=3)"
   ]
  },
  {
   "cell_type": "code",
   "execution_count": 23,
   "metadata": {},
   "outputs": [],
   "source": [
    "features = np.reshape(features, newshape=(features.shape[0], -1))\n",
    "pred = km.fit_predict(features)"
   ]
  },
  {
   "cell_type": "code",
   "execution_count": 24,
   "metadata": {},
   "outputs": [],
   "source": [
    "import numpy as np\n",
    "from sklearn.metrics import normalized_mutual_info_score, adjusted_rand_score\n",
    "\n",
    "nmi = normalized_mutual_info_score\n",
    "ari = adjusted_rand_score\n",
    "\n",
    "\n",
    "def acc(y_true, y_pred):\n",
    "    \"\"\"\n",
    "    Calculate clustering accuracy. Require scikit-learn installed\n",
    "\n",
    "    # Arguments\n",
    "        y: true labels, numpy.array with shape `(n_samples,)`\n",
    "        y_pred: predicted labels, numpy.array with shape `(n_samples,)`\n",
    "\n",
    "    # Return\n",
    "        accuracy, in [0,1]\n",
    "    \"\"\"\n",
    "    y_true = y_true.astype(np.int64)\n",
    "    assert y_pred.size == y_true.size\n",
    "    D = max(y_pred.max(), y_true.max()) + 1\n",
    "    w = np.zeros((D, D), dtype=np.int64)\n",
    "    for i in range(y_pred.size):\n",
    "        w[y_pred[i], y_true[i]] += 1\n",
    "    from sklearn.utils.linear_assignment_ import linear_assignment\n",
    "    ind = linear_assignment(w.max() - w)\n",
    "    return sum([w[i, j] for i, j in ind]) * 1.0 / y_pred.size"
   ]
  },
  {
   "cell_type": "code",
   "execution_count": null,
   "metadata": {},
   "outputs": [],
   "source": [
    "#next: risolvi problema come determinare la accuracy"
   ]
  },
  {
   "cell_type": "code",
   "execution_count": 26,
   "metadata": {},
   "outputs": [
    {
     "ename": "AttributeError",
     "evalue": "'list' object has no attribute 'astype'",
     "output_type": "error",
     "traceback": [
      "\u001b[0;31m---------------------------------------------------------------------------\u001b[0m",
      "\u001b[0;31mAttributeError\u001b[0m                            Traceback (most recent call last)",
      "\u001b[0;32m<ipython-input-26-9dc6bc1597eb>\u001b[0m in \u001b[0;36m<module>\u001b[0;34m\u001b[0m\n\u001b[0;32m----> 1\u001b[0;31m \u001b[0mprint\u001b[0m\u001b[0;34m(\u001b[0m\u001b[0;34m'acc='\u001b[0m\u001b[0;34m,\u001b[0m \u001b[0macc\u001b[0m\u001b[0;34m(\u001b[0m\u001b[0my\u001b[0m\u001b[0;34m,\u001b[0m \u001b[0mpred\u001b[0m\u001b[0;34m)\u001b[0m\u001b[0;34m,\u001b[0m \u001b[0;34m'nmi='\u001b[0m\u001b[0;34m,\u001b[0m \u001b[0mnmi\u001b[0m\u001b[0;34m(\u001b[0m\u001b[0my\u001b[0m\u001b[0;34m,\u001b[0m \u001b[0mpred\u001b[0m\u001b[0;34m)\u001b[0m\u001b[0;34m,\u001b[0m \u001b[0;34m'ari='\u001b[0m\u001b[0;34m,\u001b[0m \u001b[0mari\u001b[0m\u001b[0;34m(\u001b[0m\u001b[0my\u001b[0m\u001b[0;34m,\u001b[0m \u001b[0mpred\u001b[0m\u001b[0;34m)\u001b[0m\u001b[0;34m)\u001b[0m\u001b[0;34m\u001b[0m\u001b[0;34m\u001b[0m\u001b[0m\n\u001b[0m",
      "\u001b[0;32m<ipython-input-24-92bf9252bc6f>\u001b[0m in \u001b[0;36macc\u001b[0;34m(y_true, y_pred)\u001b[0m\n\u001b[1;32m     17\u001b[0m         \u001b[0maccuracy\u001b[0m\u001b[0;34m,\u001b[0m \u001b[0;32min\u001b[0m \u001b[0;34m[\u001b[0m\u001b[0;36m0\u001b[0m\u001b[0;34m,\u001b[0m\u001b[0;36m1\u001b[0m\u001b[0;34m]\u001b[0m\u001b[0;34m\u001b[0m\u001b[0;34m\u001b[0m\u001b[0m\n\u001b[1;32m     18\u001b[0m     \"\"\"\n\u001b[0;32m---> 19\u001b[0;31m     \u001b[0my_true\u001b[0m \u001b[0;34m=\u001b[0m \u001b[0my_true\u001b[0m\u001b[0;34m.\u001b[0m\u001b[0mastype\u001b[0m\u001b[0;34m(\u001b[0m\u001b[0mnp\u001b[0m\u001b[0;34m.\u001b[0m\u001b[0mint64\u001b[0m\u001b[0;34m)\u001b[0m\u001b[0;34m\u001b[0m\u001b[0;34m\u001b[0m\u001b[0m\n\u001b[0m\u001b[1;32m     20\u001b[0m     \u001b[0;32massert\u001b[0m \u001b[0my_pred\u001b[0m\u001b[0;34m.\u001b[0m\u001b[0msize\u001b[0m \u001b[0;34m==\u001b[0m \u001b[0my_true\u001b[0m\u001b[0;34m.\u001b[0m\u001b[0msize\u001b[0m\u001b[0;34m\u001b[0m\u001b[0;34m\u001b[0m\u001b[0m\n\u001b[1;32m     21\u001b[0m     \u001b[0mD\u001b[0m \u001b[0;34m=\u001b[0m \u001b[0mmax\u001b[0m\u001b[0;34m(\u001b[0m\u001b[0my_pred\u001b[0m\u001b[0;34m.\u001b[0m\u001b[0mmax\u001b[0m\u001b[0;34m(\u001b[0m\u001b[0;34m)\u001b[0m\u001b[0;34m,\u001b[0m \u001b[0my_true\u001b[0m\u001b[0;34m.\u001b[0m\u001b[0mmax\u001b[0m\u001b[0;34m(\u001b[0m\u001b[0;34m)\u001b[0m\u001b[0;34m)\u001b[0m \u001b[0;34m+\u001b[0m \u001b[0;36m1\u001b[0m\u001b[0;34m\u001b[0m\u001b[0;34m\u001b[0m\u001b[0m\n",
      "\u001b[0;31mAttributeError\u001b[0m: 'list' object has no attribute 'astype'"
     ]
    }
   ],
   "source": [
    "print('acc=', acc(y, pred), 'nmi=', nmi(y, pred), 'ari=', ari(y, pred))"
   ]
  },
  {
   "cell_type": "code",
   "execution_count": null,
   "metadata": {},
   "outputs": [],
   "source": []
  }
 ],
 "metadata": {
  "kernelspec": {
   "display_name": "Python 3",
   "language": "python",
   "name": "python3"
  },
  "language_info": {
   "codemirror_mode": {
    "name": "ipython",
    "version": 3
   },
   "file_extension": ".py",
   "mimetype": "text/x-python",
   "name": "python",
   "nbconvert_exporter": "python",
   "pygments_lexer": "ipython3",
   "version": "3.7.4"
  }
 },
 "nbformat": 4,
 "nbformat_minor": 2
}
